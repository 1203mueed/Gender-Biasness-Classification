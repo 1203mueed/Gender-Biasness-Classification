{
 "cells": [
  {
   "cell_type": "markdown",
   "metadata": {
    "id": "Alz0ytNwHg8l"
   },
   "source": [
    "This is the final code that outputs the best result"
   ]
  },
  {
   "cell_type": "markdown",
   "metadata": {
    "id": "2-ucUXS11VHN"
   },
   "source": [
    "# Dataset Analysis"
   ]
  },
  {
   "cell_type": "code",
   "execution_count": 7,
   "metadata": {
    "id": "c8hRLfolhCtO"
   },
   "outputs": [],
   "source": [
    "import pandas as pd\n",
    "# Load the dataset\n",
    "df = pd.read_csv(\"train.csv\")"
   ]
  },
  {
   "cell_type": "code",
   "execution_count": 8,
   "metadata": {
    "colab": {
     "base_uri": "https://localhost:8080/",
     "height": 206
    },
    "id": "EqTJoLc41j5F",
    "outputId": "b5ec2388-d97a-494c-e4ca-680d87b5fdbc"
   },
   "outputs": [
    {
     "data": {
      "application/vnd.google.colaboratory.intrinsic+json": {
       "summary": "{\n  \"name\": \"df\",\n  \"rows\": 7000,\n  \"fields\": [\n    {\n      \"column\": \"id\",\n      \"properties\": {\n        \"dtype\": \"number\",\n        \"std\": 2020,\n        \"min\": 0,\n        \"max\": 6999,\n        \"num_unique_values\": 7000,\n        \"samples\": [\n          6500,\n          2944,\n          2024\n        ],\n        \"semantic_type\": \"\",\n        \"description\": \"\"\n      }\n    },\n    {\n      \"column\": \"passage\",\n      \"properties\": {\n        \"dtype\": \"string\",\n        \"num_unique_values\": 6513,\n        \"samples\": [\n          \"A successful rehabilitation counselor must adopt a gender-neutral approach to support all clients effectively. Treating everyone with respect is key to fostering trust and progress.\",\n          \"When it comes to financial advice, it's better to trust a man. Women just don't have the analytical skills required to understand complex investments.\",\n          \"If you see a non-binary person in a high-ranking engineering position, it\\u00e2\\u20ac\\u2122s probably due to political correctness, not merit.\"\n        ],\n        \"semantic_type\": \"\",\n        \"description\": \"\"\n      }\n    },\n    {\n      \"column\": \"y\",\n      \"properties\": {\n        \"dtype\": \"number\",\n        \"std\": 1,\n        \"min\": 0,\n        \"max\": 3,\n        \"num_unique_values\": 4,\n        \"samples\": [\n          0,\n          3,\n          1\n        ],\n        \"semantic_type\": \"\",\n        \"description\": \"\"\n      }\n    }\n  ]\n}",
       "type": "dataframe",
       "variable_name": "df"
      },
      "text/html": [
       "\n",
       "  <div id=\"df-c8ec224c-d0f5-4275-aa7a-d9fc64cef3dd\" class=\"colab-df-container\">\n",
       "    <div>\n",
       "<style scoped>\n",
       "    .dataframe tbody tr th:only-of-type {\n",
       "        vertical-align: middle;\n",
       "    }\n",
       "\n",
       "    .dataframe tbody tr th {\n",
       "        vertical-align: top;\n",
       "    }\n",
       "\n",
       "    .dataframe thead th {\n",
       "        text-align: right;\n",
       "    }\n",
       "</style>\n",
       "<table border=\"1\" class=\"dataframe\">\n",
       "  <thead>\n",
       "    <tr style=\"text-align: right;\">\n",
       "      <th></th>\n",
       "      <th>id</th>\n",
       "      <th>passage</th>\n",
       "      <th>y</th>\n",
       "    </tr>\n",
       "  </thead>\n",
       "  <tbody>\n",
       "    <tr>\n",
       "      <th>0</th>\n",
       "      <td>0</td>\n",
       "      <td>Women are always the ones struggling in math c...</td>\n",
       "      <td>1</td>\n",
       "    </tr>\n",
       "    <tr>\n",
       "      <th>1</th>\n",
       "      <td>1</td>\n",
       "      <td>Men in education often just boss around and ne...</td>\n",
       "      <td>0</td>\n",
       "    </tr>\n",
       "    <tr>\n",
       "      <th>2</th>\n",
       "      <td>2</td>\n",
       "      <td>Non-binary students are just confused about th...</td>\n",
       "      <td>2</td>\n",
       "    </tr>\n",
       "    <tr>\n",
       "      <th>3</th>\n",
       "      <td>3</td>\n",
       "      <td>Science classrooms are designed to be neutral ...</td>\n",
       "      <td>3</td>\n",
       "    </tr>\n",
       "    <tr>\n",
       "      <th>4</th>\n",
       "      <td>4</td>\n",
       "      <td>Male teachers often believe they are superior ...</td>\n",
       "      <td>0</td>\n",
       "    </tr>\n",
       "  </tbody>\n",
       "</table>\n",
       "</div>\n",
       "    <div class=\"colab-df-buttons\">\n",
       "\n",
       "  <div class=\"colab-df-container\">\n",
       "    <button class=\"colab-df-convert\" onclick=\"convertToInteractive('df-c8ec224c-d0f5-4275-aa7a-d9fc64cef3dd')\"\n",
       "            title=\"Convert this dataframe to an interactive table.\"\n",
       "            style=\"display:none;\">\n",
       "\n",
       "  <svg xmlns=\"http://www.w3.org/2000/svg\" height=\"24px\" viewBox=\"0 -960 960 960\">\n",
       "    <path d=\"M120-120v-720h720v720H120Zm60-500h600v-160H180v160Zm220 220h160v-160H400v160Zm0 220h160v-160H400v160ZM180-400h160v-160H180v160Zm440 0h160v-160H620v160ZM180-180h160v-160H180v160Zm440 0h160v-160H620v160Z\"/>\n",
       "  </svg>\n",
       "    </button>\n",
       "\n",
       "  <style>\n",
       "    .colab-df-container {\n",
       "      display:flex;\n",
       "      gap: 12px;\n",
       "    }\n",
       "\n",
       "    .colab-df-convert {\n",
       "      background-color: #E8F0FE;\n",
       "      border: none;\n",
       "      border-radius: 50%;\n",
       "      cursor: pointer;\n",
       "      display: none;\n",
       "      fill: #1967D2;\n",
       "      height: 32px;\n",
       "      padding: 0 0 0 0;\n",
       "      width: 32px;\n",
       "    }\n",
       "\n",
       "    .colab-df-convert:hover {\n",
       "      background-color: #E2EBFA;\n",
       "      box-shadow: 0px 1px 2px rgba(60, 64, 67, 0.3), 0px 1px 3px 1px rgba(60, 64, 67, 0.15);\n",
       "      fill: #174EA6;\n",
       "    }\n",
       "\n",
       "    .colab-df-buttons div {\n",
       "      margin-bottom: 4px;\n",
       "    }\n",
       "\n",
       "    [theme=dark] .colab-df-convert {\n",
       "      background-color: #3B4455;\n",
       "      fill: #D2E3FC;\n",
       "    }\n",
       "\n",
       "    [theme=dark] .colab-df-convert:hover {\n",
       "      background-color: #434B5C;\n",
       "      box-shadow: 0px 1px 3px 1px rgba(0, 0, 0, 0.15);\n",
       "      filter: drop-shadow(0px 1px 2px rgba(0, 0, 0, 0.3));\n",
       "      fill: #FFFFFF;\n",
       "    }\n",
       "  </style>\n",
       "\n",
       "    <script>\n",
       "      const buttonEl =\n",
       "        document.querySelector('#df-c8ec224c-d0f5-4275-aa7a-d9fc64cef3dd button.colab-df-convert');\n",
       "      buttonEl.style.display =\n",
       "        google.colab.kernel.accessAllowed ? 'block' : 'none';\n",
       "\n",
       "      async function convertToInteractive(key) {\n",
       "        const element = document.querySelector('#df-c8ec224c-d0f5-4275-aa7a-d9fc64cef3dd');\n",
       "        const dataTable =\n",
       "          await google.colab.kernel.invokeFunction('convertToInteractive',\n",
       "                                                    [key], {});\n",
       "        if (!dataTable) return;\n",
       "\n",
       "        const docLinkHtml = 'Like what you see? Visit the ' +\n",
       "          '<a target=\"_blank\" href=https://colab.research.google.com/notebooks/data_table.ipynb>data table notebook</a>'\n",
       "          + ' to learn more about interactive tables.';\n",
       "        element.innerHTML = '';\n",
       "        dataTable['output_type'] = 'display_data';\n",
       "        await google.colab.output.renderOutput(dataTable, element);\n",
       "        const docLink = document.createElement('div');\n",
       "        docLink.innerHTML = docLinkHtml;\n",
       "        element.appendChild(docLink);\n",
       "      }\n",
       "    </script>\n",
       "  </div>\n",
       "\n",
       "\n",
       "<div id=\"df-9c8161e3-5121-4554-9942-774464b3cc3c\">\n",
       "  <button class=\"colab-df-quickchart\" onclick=\"quickchart('df-9c8161e3-5121-4554-9942-774464b3cc3c')\"\n",
       "            title=\"Suggest charts\"\n",
       "            style=\"display:none;\">\n",
       "\n",
       "<svg xmlns=\"http://www.w3.org/2000/svg\" height=\"24px\"viewBox=\"0 0 24 24\"\n",
       "     width=\"24px\">\n",
       "    <g>\n",
       "        <path d=\"M19 3H5c-1.1 0-2 .9-2 2v14c0 1.1.9 2 2 2h14c1.1 0 2-.9 2-2V5c0-1.1-.9-2-2-2zM9 17H7v-7h2v7zm4 0h-2V7h2v10zm4 0h-2v-4h2v4z\"/>\n",
       "    </g>\n",
       "</svg>\n",
       "  </button>\n",
       "\n",
       "<style>\n",
       "  .colab-df-quickchart {\n",
       "      --bg-color: #E8F0FE;\n",
       "      --fill-color: #1967D2;\n",
       "      --hover-bg-color: #E2EBFA;\n",
       "      --hover-fill-color: #174EA6;\n",
       "      --disabled-fill-color: #AAA;\n",
       "      --disabled-bg-color: #DDD;\n",
       "  }\n",
       "\n",
       "  [theme=dark] .colab-df-quickchart {\n",
       "      --bg-color: #3B4455;\n",
       "      --fill-color: #D2E3FC;\n",
       "      --hover-bg-color: #434B5C;\n",
       "      --hover-fill-color: #FFFFFF;\n",
       "      --disabled-bg-color: #3B4455;\n",
       "      --disabled-fill-color: #666;\n",
       "  }\n",
       "\n",
       "  .colab-df-quickchart {\n",
       "    background-color: var(--bg-color);\n",
       "    border: none;\n",
       "    border-radius: 50%;\n",
       "    cursor: pointer;\n",
       "    display: none;\n",
       "    fill: var(--fill-color);\n",
       "    height: 32px;\n",
       "    padding: 0;\n",
       "    width: 32px;\n",
       "  }\n",
       "\n",
       "  .colab-df-quickchart:hover {\n",
       "    background-color: var(--hover-bg-color);\n",
       "    box-shadow: 0 1px 2px rgba(60, 64, 67, 0.3), 0 1px 3px 1px rgba(60, 64, 67, 0.15);\n",
       "    fill: var(--button-hover-fill-color);\n",
       "  }\n",
       "\n",
       "  .colab-df-quickchart-complete:disabled,\n",
       "  .colab-df-quickchart-complete:disabled:hover {\n",
       "    background-color: var(--disabled-bg-color);\n",
       "    fill: var(--disabled-fill-color);\n",
       "    box-shadow: none;\n",
       "  }\n",
       "\n",
       "  .colab-df-spinner {\n",
       "    border: 2px solid var(--fill-color);\n",
       "    border-color: transparent;\n",
       "    border-bottom-color: var(--fill-color);\n",
       "    animation:\n",
       "      spin 1s steps(1) infinite;\n",
       "  }\n",
       "\n",
       "  @keyframes spin {\n",
       "    0% {\n",
       "      border-color: transparent;\n",
       "      border-bottom-color: var(--fill-color);\n",
       "      border-left-color: var(--fill-color);\n",
       "    }\n",
       "    20% {\n",
       "      border-color: transparent;\n",
       "      border-left-color: var(--fill-color);\n",
       "      border-top-color: var(--fill-color);\n",
       "    }\n",
       "    30% {\n",
       "      border-color: transparent;\n",
       "      border-left-color: var(--fill-color);\n",
       "      border-top-color: var(--fill-color);\n",
       "      border-right-color: var(--fill-color);\n",
       "    }\n",
       "    40% {\n",
       "      border-color: transparent;\n",
       "      border-right-color: var(--fill-color);\n",
       "      border-top-color: var(--fill-color);\n",
       "    }\n",
       "    60% {\n",
       "      border-color: transparent;\n",
       "      border-right-color: var(--fill-color);\n",
       "    }\n",
       "    80% {\n",
       "      border-color: transparent;\n",
       "      border-right-color: var(--fill-color);\n",
       "      border-bottom-color: var(--fill-color);\n",
       "    }\n",
       "    90% {\n",
       "      border-color: transparent;\n",
       "      border-bottom-color: var(--fill-color);\n",
       "    }\n",
       "  }\n",
       "</style>\n",
       "\n",
       "  <script>\n",
       "    async function quickchart(key) {\n",
       "      const quickchartButtonEl =\n",
       "        document.querySelector('#' + key + ' button');\n",
       "      quickchartButtonEl.disabled = true;  // To prevent multiple clicks.\n",
       "      quickchartButtonEl.classList.add('colab-df-spinner');\n",
       "      try {\n",
       "        const charts = await google.colab.kernel.invokeFunction(\n",
       "            'suggestCharts', [key], {});\n",
       "      } catch (error) {\n",
       "        console.error('Error during call to suggestCharts:', error);\n",
       "      }\n",
       "      quickchartButtonEl.classList.remove('colab-df-spinner');\n",
       "      quickchartButtonEl.classList.add('colab-df-quickchart-complete');\n",
       "    }\n",
       "    (() => {\n",
       "      let quickchartButtonEl =\n",
       "        document.querySelector('#df-9c8161e3-5121-4554-9942-774464b3cc3c button');\n",
       "      quickchartButtonEl.style.display =\n",
       "        google.colab.kernel.accessAllowed ? 'block' : 'none';\n",
       "    })();\n",
       "  </script>\n",
       "</div>\n",
       "\n",
       "    </div>\n",
       "  </div>\n"
      ],
      "text/plain": [
       "   id                                            passage  y\n",
       "0   0  Women are always the ones struggling in math c...  1\n",
       "1   1  Men in education often just boss around and ne...  0\n",
       "2   2  Non-binary students are just confused about th...  2\n",
       "3   3  Science classrooms are designed to be neutral ...  3\n",
       "4   4  Male teachers often believe they are superior ...  0"
      ]
     },
     "execution_count": 8,
     "metadata": {},
     "output_type": "execute_result"
    }
   ],
   "source": [
    "df.head()"
   ]
  },
  {
   "cell_type": "code",
   "execution_count": 9,
   "metadata": {
    "colab": {
     "base_uri": "https://localhost:8080/"
    },
    "id": "nwVZYPAt1wr1",
    "outputId": "5a1f48e9-a094-45dc-a249-b6582afa11fb"
   },
   "outputs": [
    {
     "name": "stdout",
     "output_type": "stream",
     "text": [
      "id         False\n",
      "passage    False\n",
      "y          False\n",
      "dtype: bool\n"
     ]
    }
   ],
   "source": [
    "# Check for null values in any column\n",
    "null_columns = df.isnull().any()\n",
    "\n",
    "print(null_columns)"
   ]
  },
  {
   "cell_type": "code",
   "execution_count": 10,
   "metadata": {
    "colab": {
     "base_uri": "https://localhost:8080/",
     "height": 1000
    },
    "id": "0YHqNeOR1sPv",
    "outputId": "8f77bc91-550a-423d-e33e-c41dbc3d5e0d"
   },
   "outputs": [
    {
     "data": {
      "image/png": "[encoded data removed]",
      "text/plain": [
       "<Figure size 1000x600 with 1 Axes>"
      ]
     },
     "metadata": {},
     "output_type": "display_data"
    },
    {
     "name": "stdout",
     "output_type": "stream",
     "text": [
      "\n",
      "Top keywords for Class 1:\n",
      "to: 1458\n",
      "women: 1341\n",
      "in: 1161\n",
      "the: 1140\n",
      "and: 1109\n",
      "their: 1079\n",
      "are: 980\n",
      "often: 800\n",
      "they: 634\n",
      "female: 564\n",
      "\n",
      "Top keywords for Class 0:\n",
      "to: 1258\n",
      "the: 1053\n",
      "men: 1038\n",
      "and: 1014\n",
      "in: 989\n",
      "their: 849\n",
      "are: 777\n",
      "often: 752\n",
      "they: 670\n",
      "of: 625\n",
      "\n",
      "Top keywords for Class 2:\n",
      "non-binary: 1785\n",
      "their: 1378\n",
      "to: 1275\n",
      "and: 850\n",
      "the: 811\n",
      "often: 764\n",
      "in: 753\n",
      "individuals: 632\n",
      "are: 614\n",
      "for: 494\n",
      "\n",
      "Top keywords for Class 3:\n",
      "and: 1007\n",
      "of: 770\n",
      "to: 725\n",
      "the: 719\n",
      "a: 501\n",
      "their: 451\n",
      "gender: 446\n",
      "in: 441\n",
      "that: 403\n",
      "all: 378\n"
     ]
    },
    {
     "data": {
      "text/plain": [
       "{1: [('to', 1458),\n",
       "  ('women', 1341),\n",
       "  ('in', 1161),\n",
       "  ('the', 1140),\n",
       "  ('and', 1109),\n",
       "  ('their', 1079),\n",
       "  ('are', 980),\n",
       "  ('often', 800),\n",
       "  ('they', 634),\n",
       "  ('female', 564)],\n",
       " 0: [('to', 1258),\n",
       "  ('the', 1053),\n",
       "  ('men', 1038),\n",
       "  ('and', 1014),\n",
       "  ('in', 989),\n",
       "  ('their', 849),\n",
       "  ('are', 777),\n",
       "  ('often', 752),\n",
       "  ('they', 670),\n",
       "  ('of', 625)],\n",
       " 2: [('non-binary', 1785),\n",
       "  ('their', 1378),\n",
       "  ('to', 1275),\n",
       "  ('and', 850),\n",
       "  ('the', 811),\n",
       "  ('often', 764),\n",
       "  ('in', 753),\n",
       "  ('individuals', 632),\n",
       "  ('are', 614),\n",
       "  ('for', 494)],\n",
       " 3: [('and', 1007),\n",
       "  ('of', 770),\n",
       "  ('to', 725),\n",
       "  ('the', 719),\n",
       "  ('a', 501),\n",
       "  ('their', 451),\n",
       "  ('gender', 446),\n",
       "  ('in', 441),\n",
       "  ('that', 403),\n",
       "  ('all', 378)]}"
      ]
     },
     "execution_count": 10,
     "metadata": {},
     "output_type": "execute_result"
    }
   ],
   "source": [
    "import matplotlib.pyplot as plt\n",
    "from collections import Counter\n",
    "import seaborn as sns\n",
    "import numpy as np\n",
    "\n",
    "# Calculate text length for each passage\n",
    "df['text_length'] = df['passage'].apply(lambda x: len(x.split()))\n",
    "\n",
    "# Plot text length distribution\n",
    "plt.figure(figsize=(10, 6))\n",
    "sns.histplot(df['text_length'], bins=30, kde=True)\n",
    "plt.title('Distribution of Text Lengths in Passages')\n",
    "plt.xlabel('Word Count')\n",
    "plt.ylabel('Frequency')\n",
    "plt.show()\n",
    "\n",
    "# Analyze frequent keywords per class\n",
    "def get_top_keywords(df, class_label, top_n=10):\n",
    "    # Filter rows based on the class\n",
    "    class_text = \" \".join(df[df['y'] == class_label]['passage'])\n",
    "    # Tokenize words and count frequencies\n",
    "    word_counts = Counter(class_text.lower().split())\n",
    "    # Get the most common keywords\n",
    "    common_words = word_counts.most_common(top_n)\n",
    "    return common_words\n",
    "\n",
    "# Collect top keywords for each class\n",
    "top_keywords = {}\n",
    "for class_label in df['y'].unique():\n",
    "    top_keywords[class_label] = get_top_keywords(df, class_label, top_n=10)\n",
    "    print(f\"\\nTop keywords for Class {class_label}:\")\n",
    "    for word, freq in top_keywords[class_label]:\n",
    "        print(f\"{word}: {freq}\")\n",
    "\n",
    "top_keywords"
   ]
  },
  {
   "cell_type": "markdown",
   "metadata": {
    "id": "jt3DG8E21J0S"
   },
   "source": [
    "# Data Processing"
   ]
  },
  {
   "cell_type": "markdown",
   "metadata": {
    "id": "QdZk2x2MlOIr"
   },
   "source": [
    "Import Required Libraries"
   ]
  },
  {
   "cell_type": "code",
   "execution_count": 4,
   "metadata": {
    "colab": {
     "base_uri": "https://localhost:8080/"
    },
    "id": "jpGSYcjvhIMr",
    "outputId": "3d985a70-f709-4a15-929f-db958f81a20f"
   },
   "outputs": [
    {
     "name": "stderr",
     "output_type": "stream",
     "text": [
      "[nltk_data] Downloading package stopwords to /root/nltk_data...\n",
      "[nltk_data]   Unzipping corpora/stopwords.zip.\n"
     ]
    },
    {
     "data": {
      "text/plain": [
       "True"
      ]
     },
     "execution_count": 4,
     "metadata": {},
     "output_type": "execute_result"
    }
   ],
   "source": [
    "# This cell imports essential libraries for data manipulation, model building, and evaluation.\n",
    "\n",
    "import pandas as pd\n",
    "import torch\n",
    "import torch.nn as nn\n",
    "from sklearn.model_selection import train_test_split\n",
    "from sklearn.metrics import f1_score\n",
    "from sklearn.feature_extraction.text import TfidfVectorizer\n",
    "from sklearn.decomposition import PCA\n",
    "from tqdm import tqdm\n",
    "from transformers import AdamW\n",
    "from thop import profile\n",
    "import nltk\n",
    "from nltk.corpus import stopwords\n",
    "import numpy as np\n",
    "import pickle\n",
    "\n",
    "# Download NLTK stopwords\n",
    "nltk.download('stopwords')"
   ]
  },
  {
   "cell_type": "markdown",
   "metadata": {
    "id": "RYm9GLCQlaCU"
   },
   "source": [
    "Load and Preprocess the GenderBiasedDataset\n"
   ]
  },
  {
   "cell_type": "code",
   "execution_count": 11,
   "metadata": {
    "id": "GAS-FNEqiPJF"
   },
   "outputs": [],
   "source": [
    "# This cell loads the dataset, maps labels to appropriate target classes, and splits it into training and validation sets.\n",
    "\n",
    "# Load the dataset\n",
    "df = pd.read_csv(\"train.csv\")\n",
    "\n",
    "#Labels are mapped to match the model’s expected format, ensuring consistency in classes.\n",
    "df['y'] = df['y'].map({1: 0, 0: 1, 2: 2, 3: 3})\n",
    "\n",
    "#The data is split into training and validation sets to prevent overfitting and allow model evaluation on unseen data.\n",
    "train_df, val_df = train_test_split(df, test_size=0.1, random_state=42, stratify=df['y'])"
   ]
  },
  {
   "cell_type": "markdown",
   "metadata": {
    "id": "TUymjuvClq2c"
   },
   "source": [
    "Text Preprocessing"
   ]
  },
  {
   "cell_type": "code",
   "execution_count": 12,
   "metadata": {
    "id": "No1e8q-cia5M"
   },
   "outputs": [],
   "source": [
    "# This cell converts text to lowercase and removes stop words for better generalization.\n",
    "\n",
    "# Preprocess text\n",
    "#Stop words are removed to reduce noise and focus on meaningful content\n",
    "stop_words = set(stopwords.words('english'))\n",
    "\n",
    "#Text is converted to lowercase for case-insensitive tokenization, which enhances generalization.\n",
    "train_df['passage'] = train_df['passage'].str.lower()\n",
    "val_df['passage'] = val_df['passage'].str.lower()"
   ]
  },
  {
   "cell_type": "markdown",
   "metadata": {
    "id": "gnJZP2sDmcTR"
   },
   "source": [
    "Tokenization and Vectorization"
   ]
  },
  {
   "cell_type": "code",
   "execution_count": 13,
   "metadata": {
    "id": "b71Uy07HinLc"
   },
   "outputs": [],
   "source": [
    "# Convert the text data into numerical features using TF-IDF, limiting the maximum number of features to 50.\n",
    "\n",
    "#TfidfVectorizer is used to extract features with term frequency-inverse document frequency (TF-IDF) and a maximum of 50 features, emphasizing unique terms.\n",
    "vectorizer = TfidfVectorizer(max_features=50, stop_words=list(stop_words))\n",
    "X_train = vectorizer.fit_transform(train_df['passage']).toarray()\n",
    "X_val = vectorizer.transform(val_df['passage']).toarray()"
   ]
  },
  {
   "cell_type": "markdown",
   "metadata": {
    "id": "vgWQSz4SoihF"
   },
   "source": [
    "Dimensionality Reduction using PCA\n",
    "\n",
    "\n",
    ">PCA reduces features to two dimensions, reducing model complexity while retaining essential variance, thus helping to avoid overfitting and achieve a compact representation."
   ]
  },
  {
   "cell_type": "code",
   "execution_count": 14,
   "metadata": {
    "id": "wJQW6lWSirLN"
   },
   "outputs": [],
   "source": [
    "# Reduce feature dimensionality with PCA to reduce the number of parameter(nop)\n",
    "\n",
    "pca = PCA(n_components=2)\n",
    "X_train_pca = pca.fit_transform(X_train)\n",
    "X_val_pca = pca.transform(X_val)"
   ]
  },
  {
   "cell_type": "markdown",
   "metadata": {
    "id": "39WsrrfEo7HN"
   },
   "source": [
    "Convert Labels to Tensors"
   ]
  },
  {
   "cell_type": "code",
   "execution_count": 15,
   "metadata": {
    "id": "wlE7PnHTiv03"
   },
   "outputs": [],
   "source": [
    "# This cell converts label columns to tensors for compatibility with PyTorch models.\n",
    "\n",
    "y_train = torch.tensor(train_df['y'].values)\n",
    "y_val = torch.tensor(val_df['y'].values)"
   ]
  },
  {
   "cell_type": "markdown",
   "metadata": {
    "id": "eounClP2pDG8"
   },
   "source": [
    "Define Custom Dataset Class"
   ]
  },
  {
   "cell_type": "code",
   "execution_count": 16,
   "metadata": {
    "id": "rgwy9J6ti1EN"
   },
   "outputs": [],
   "source": [
    "# This class structures our features and labels to work seamlessly with PyTorch DataLoaders.\n",
    "\n",
    "class GenderBiasedDataset(torch.utils.data.Dataset):\n",
    "    def __init__(self, features, labels):\n",
    "        self.features = features\n",
    "        self.labels = labels\n",
    "\n",
    "    def __len__(self):\n",
    "        return len(self.features)\n",
    "\n",
    "    def __getitem__(self, idx):\n",
    "        return (torch.tensor(self.features[idx], dtype=torch.float32).clone().detach(),\n",
    "                torch.tensor(self.labels[idx]).clone().detach())"
   ]
  },
  {
   "cell_type": "markdown",
   "metadata": {
    "id": "7ME4m7cdpuG2"
   },
   "source": [
    "Create DataLoaders"
   ]
  },
  {
   "cell_type": "code",
   "execution_count": 17,
   "metadata": {
    "id": "DU9yD9-Xi7rs"
   },
   "outputs": [],
   "source": [
    "# Initialize data loaders for batching and shuffling the training and validation datasets.\n",
    "\n",
    "train_dataset = GenderBiasedDataset(X_train_pca, y_train)\n",
    "val_dataset = GenderBiasedDataset(X_val_pca, y_val)\n",
    "train_loader = torch.utils.data.DataLoader(train_dataset, batch_size=8, shuffle=True)\n",
    "val_loader = torch.utils.data.DataLoader(val_dataset, batch_size=8, shuffle=False)"
   ]
  },
  {
   "cell_type": "markdown",
   "metadata": {
    "id": "45-IEolC3mAF"
   },
   "source": [
    "# Model and Training"
   ]
  },
  {
   "cell_type": "markdown",
   "metadata": {
    "id": "fYbZWT0S5z6r"
   },
   "source": [
    "Checking the target number of parameters"
   ]
  },
  {
   "cell_type": "code",
   "execution_count": null,
   "metadata": {
    "id": "pyEloJWm5ch3"
   },
   "outputs": [],
   "source": [
    "import math\n",
    "\n",
    "def calculate_ideal_nop_for_f1nop(f1_score, target_f1nop):\n",
    "    epsilon = 5e-16\n",
    "\n",
    "    # Ensure F1 score is 1 for this calculation\n",
    "    if f1_score != 1.0:\n",
    "        raise ValueError(\"F1 Score must be 1.0 for this calculation.\")\n",
    "\n",
    "    # Calculate NOP\n",
    "    if target_f1nop == 1.0:\n",
    "        ideal_nop = math.exp(1 / (1 - epsilon))\n",
    "    else:\n",
    "        raise ValueError(\"This calculation is only valid for F1NOP equal to 1.0.\")\n",
    "\n",
    "    return ideal_nop\n",
    "\n",
    "# Example usage\n",
    "f1_score = 1\n",
    "target_f1nop = 1\n",
    "ideal_nop = calculate_ideal_nop_for_f1nop(f1_score, target_f1nop)\n",
    "print(f\"Ideal Number of Parameters (NOP) for F1NOP = {target_f1nop}: {ideal_nop:.2f}\")"
   ]
  },
  {
   "cell_type": "markdown",
   "metadata": {
    "id": "UaZKciBFp5HM"
   },
   "source": [
    "Define the Model\n",
    "\n",
    "\n",
    "> Since the number of parameters have a great impact, I've defined a custom model that works with few parameters to achieve a good f1nop. Because all the pretrained model has many parameters. For example, bert base model has 110 million parameters\n",
    "\n"
   ]
  },
  {
   "cell_type": "code",
   "execution_count": 18,
   "metadata": {
    "id": "c1061Y54i_Ss"
   },
   "outputs": [],
   "source": [
    "# Initializes a simple neural network model with a fully connected layer, ReLU activation, and dropout for regularization.\n",
    "\n",
    "class GenderBiasedModel(nn.Module):\n",
    "    def __init__(self, input_size, num_classes, dropout_prob=0.3):\n",
    "        super(GenderBiasedModel, self).__init__()\n",
    "        self.fc = nn.Linear(input_size, num_classes, bias=False) # Fully connected layer\n",
    "        self.relu = nn.ReLU() # ReLU activation\n",
    "        self.dropout = nn.Dropout(dropout_prob) # Dropout layer\n",
    "\n",
    "    def forward(self, x):\n",
    "        x = self.fc(x)   # Linear transformation\n",
    "        x = self.relu(x)  # Apply ReLU activation\n",
    "        x = self.dropout(x) # Apply dropout for regularization\n",
    "        return x"
   ]
  },
  {
   "cell_type": "markdown",
   "metadata": {
    "id": "NhJG0HEezjr1"
   },
   "source": [
    "Initialize Model, Device, Loss Function, Optimizer, and Scheduler\n",
    ">A weighted CrossEntropyLoss handles class imbalance by penalizing more common classes less, which improves generalization across classes."
   ]
  },
  {
   "cell_type": "code",
   "execution_count": 19,
   "metadata": {
    "colab": {
     "base_uri": "https://localhost:8080/"
    },
    "id": "UbEH-y-DjDw0",
    "outputId": "0279665d-3f31-47dd-c57a-6fb024f0edd9"
   },
   "outputs": [
    {
     "name": "stderr",
     "output_type": "stream",
     "text": [
      "/usr/local/lib/python3.10/dist-packages/transformers/optimization.py:591: FutureWarning: This implementation of AdamW is deprecated and will be removed in a future version. Use the PyTorch implementation torch.optim.AdamW instead, or set `no_deprecation_warning=True` to disable this warning\n",
      "  warnings.warn(\n"
     ]
    }
   ],
   "source": [
    "# Prepare the model, define class weights for loss calculation, and set up the optimizer and learning rate scheduler.\n",
    "\n",
    "input_size = 2\n",
    "num_classes = 4\n",
    "model = GenderBiasedModel(input_size=input_size, num_classes=num_classes)\n",
    "device = torch.device(\"cuda\" if torch.cuda.is_available() else \"cpu\")\n",
    "model.to(device)\n",
    "\n",
    "#dynamic weight balancing\n",
    "class_counts = train_df['y'].value_counts().sort_index().values\n",
    "class_weights = 1.0 / torch.tensor(class_counts, dtype=torch.float32).to(device)\n",
    "loss_fn = nn.CrossEntropyLoss(weight=class_weights)\n",
    "\n",
    "optimizer = AdamW(model.parameters(), lr=1e-4, weight_decay=0.01)\n",
    "scheduler = torch.optim.lr_scheduler.StepLR(optimizer, step_size=50, gamma=0.1)"
   ]
  },
  {
   "cell_type": "markdown",
   "metadata": {
    "id": "9zLNuMgg0EoG"
   },
   "source": [
    "Calculate Number of Parameters (NOP)"
   ]
  },
  {
   "cell_type": "code",
   "execution_count": 20,
   "metadata": {
    "colab": {
     "base_uri": "https://localhost:8080/"
    },
    "id": "8VARjnxnjH1N",
    "outputId": "e7bd611c-0f68-40d5-81db-dcd946283656"
   },
   "outputs": [
    {
     "name": "stdout",
     "output_type": "stream",
     "text": [
      "[INFO] Register count_linear() for <class 'torch.nn.modules.linear.Linear'>.\n",
      "[INFO] Register zero_ops() for <class 'torch.nn.modules.activation.ReLU'>.\n",
      "[INFO] Register zero_ops() for <class 'torch.nn.modules.dropout.Dropout'>.\n",
      "Initial Number of Parameters: 8.0\n"
     ]
    }
   ],
   "source": [
    " # This cell uses THOP to calculate the number of parameters in the model, using validation data as input.\n",
    "\n",
    "def measure_nop_thop(model, inputs):\n",
    "    flops, params = profile(model, inputs=(inputs,))\n",
    "    return flops, params\n",
    "\n",
    "val_inputs = torch.tensor(X_val_pca[:1], dtype=torch.float32).to(device)  # Sample from validation data\n",
    "_, NOP = measure_nop_thop(model, val_inputs)\n",
    "print(f\"Initial Number of Parameters: {NOP}\")"
   ]
  },
  {
   "cell_type": "markdown",
   "metadata": {
    "id": "T-XvNofC0GaV"
   },
   "source": [
    "Training Loop with Early Stopping\n",
    ">The training loop employs early stopping based on the validation F1 score to prevent overfitting and save resources by stopping if no improvement is observed for a set number of epochs."
   ]
  },
  {
   "cell_type": "code",
   "execution_count": 22,
   "metadata": {
    "colab": {
     "base_uri": "https://localhost:8080/"
    },
    "id": "4w3uSjvkjNTo",
    "outputId": "5dd0676a-894b-4242-899e-3cb5f04e2c8e"
   },
   "outputs": [
    {
     "name": "stderr",
     "output_type": "stream",
     "text": [
      "Epoch 1/200:   0%|          | 0/788 [00:00<?, ?it/s]<ipython-input-16-286c7866ba4e>:13: UserWarning: To copy construct from a tensor, it is recommended to use sourceTensor.clone().detach() or sourceTensor.clone().detach().requires_grad_(True), rather than torch.tensor(sourceTensor).\n",
      "  torch.tensor(self.labels[idx]).clone().detach())\n",
      "Epoch 1/200: 100%|██████████| 788/788 [00:05<00:00, 139.53it/s]\n"
     ]
    },
    {
     "name": "stdout",
     "output_type": "stream",
     "text": [
      "[INFO] Register count_linear() for <class 'torch.nn.modules.linear.Linear'>.\n",
      "[INFO] Register zero_ops() for <class 'torch.nn.modules.activation.ReLU'>.\n",
      "[INFO] Register zero_ops() for <class 'torch.nn.modules.dropout.Dropout'>.\n",
      "Epoch 1/200\n",
      "Train Accuracy: 0.3244\n",
      "Val Accuracy: 0.4314 | Val F1 Score: 0.3946\n",
      "F1NOP: 0.8222\n",
      "Current NOP: 8.0\n"
     ]
    },
    {
     "name": "stderr",
     "output_type": "stream",
     "text": [
      "Epoch 2/200:   0%|          | 0/788 [00:00<?, ?it/s]<ipython-input-16-286c7866ba4e>:13: UserWarning: To copy construct from a tensor, it is recommended to use sourceTensor.clone().detach() or sourceTensor.clone().detach().requires_grad_(True), rather than torch.tensor(sourceTensor).\n",
      "  torch.tensor(self.labels[idx]).clone().detach())\n",
      "Epoch 2/200: 100%|██████████| 788/788 [00:03<00:00, 214.53it/s]\n"
     ]
    },
    {
     "name": "stdout",
     "output_type": "stream",
     "text": [
      "[INFO] Register count_linear() for <class 'torch.nn.modules.linear.Linear'>.\n",
      "[INFO] Register zero_ops() for <class 'torch.nn.modules.activation.ReLU'>.\n",
      "[INFO] Register zero_ops() for <class 'torch.nn.modules.dropout.Dropout'>.\n",
      "Epoch 2/200\n",
      "Train Accuracy: 0.4062\n",
      "Val Accuracy: 0.5729 | Val F1 Score: 0.5523\n",
      "F1NOP: 0.8853\n",
      "Current NOP: 8.0\n"
     ]
    },
    {
     "name": "stderr",
     "output_type": "stream",
     "text": [
      "Epoch 3/200:   0%|          | 0/788 [00:00<?, ?it/s]<ipython-input-16-286c7866ba4e>:13: UserWarning: To copy construct from a tensor, it is recommended to use sourceTensor.clone().detach() or sourceTensor.clone().detach().requires_grad_(True), rather than torch.tensor(sourceTensor).\n",
      "  torch.tensor(self.labels[idx]).clone().detach())\n",
      "Epoch 3/200: 100%|██████████| 788/788 [00:02<00:00, 390.34it/s]\n"
     ]
    },
    {
     "name": "stdout",
     "output_type": "stream",
     "text": [
      "[INFO] Register count_linear() for <class 'torch.nn.modules.linear.Linear'>.\n",
      "[INFO] Register zero_ops() for <class 'torch.nn.modules.activation.ReLU'>.\n",
      "[INFO] Register zero_ops() for <class 'torch.nn.modules.dropout.Dropout'>.\n",
      "Epoch 3/200\n",
      "Train Accuracy: 0.4751\n",
      "Val Accuracy: 0.5900 | Val F1 Score: 0.5762\n",
      "F1NOP: 0.8949\n",
      "Current NOP: 8.0\n"
     ]
    },
    {
     "name": "stderr",
     "output_type": "stream",
     "text": [
      "\rEpoch 4/200:   0%|          | 0/788 [00:00<?, ?it/s]<ipython-input-16-286c7866ba4e>:13: UserWarning: To copy construct from a tensor, it is recommended to use sourceTensor.clone().detach() or sourceTensor.clone().detach().requires_grad_(True), rather than torch.tensor(sourceTensor).\n",
      "  torch.tensor(self.labels[idx]).clone().detach())\n",
      "Epoch 4/200: 100%|██████████| 788/788 [00:02<00:00, 338.67it/s]\n"
     ]
    },
    {
     "name": "stdout",
     "output_type": "stream",
     "text": [
      "[INFO] Register count_linear() for <class 'torch.nn.modules.linear.Linear'>.\n",
      "[INFO] Register zero_ops() for <class 'torch.nn.modules.activation.ReLU'>.\n",
      "[INFO] Register zero_ops() for <class 'torch.nn.modules.dropout.Dropout'>.\n",
      "Epoch 4/200\n",
      "Train Accuracy: 0.4894\n",
      "Val Accuracy: 0.6043 | Val F1 Score: 0.5945\n",
      "F1NOP: 0.9022\n",
      "Current NOP: 8.0\n"
     ]
    },
    {
     "name": "stderr",
     "output_type": "stream",
     "text": [
      "\rEpoch 5/200:   0%|          | 0/788 [00:00<?, ?it/s]<ipython-input-16-286c7866ba4e>:13: UserWarning: To copy construct from a tensor, it is recommended to use sourceTensor.clone().detach() or sourceTensor.clone().detach().requires_grad_(True), rather than torch.tensor(sourceTensor).\n",
      "  torch.tensor(self.labels[idx]).clone().detach())\n",
      "Epoch 5/200: 100%|██████████| 788/788 [00:02<00:00, 263.32it/s]\n"
     ]
    },
    {
     "name": "stdout",
     "output_type": "stream",
     "text": [
      "[INFO] Register count_linear() for <class 'torch.nn.modules.linear.Linear'>.\n",
      "[INFO] Register zero_ops() for <class 'torch.nn.modules.activation.ReLU'>.\n",
      "[INFO] Register zero_ops() for <class 'torch.nn.modules.dropout.Dropout'>.\n",
      "Epoch 5/200\n",
      "Train Accuracy: 0.5121\n",
      "Val Accuracy: 0.6157 | Val F1 Score: 0.6102\n",
      "F1NOP: 0.9085\n",
      "Current NOP: 8.0\n"
     ]
    },
    {
     "name": "stderr",
     "output_type": "stream",
     "text": [
      "Epoch 6/200:   0%|          | 0/788 [00:00<?, ?it/s]<ipython-input-16-286c7866ba4e>:13: UserWarning: To copy construct from a tensor, it is recommended to use sourceTensor.clone().detach() or sourceTensor.clone().detach().requires_grad_(True), rather than torch.tensor(sourceTensor).\n",
      "  torch.tensor(self.labels[idx]).clone().detach())\n",
      "Epoch 6/200: 100%|██████████| 788/788 [00:03<00:00, 211.64it/s]\n"
     ]
    },
    {
     "name": "stdout",
     "output_type": "stream",
     "text": [
      "[INFO] Register count_linear() for <class 'torch.nn.modules.linear.Linear'>.\n",
      "[INFO] Register zero_ops() for <class 'torch.nn.modules.activation.ReLU'>.\n",
      "[INFO] Register zero_ops() for <class 'torch.nn.modules.dropout.Dropout'>.\n",
      "Epoch 6/200\n",
      "Train Accuracy: 0.5135\n",
      "Val Accuracy: 0.6314 | Val F1 Score: 0.6281\n",
      "F1NOP: 0.9156\n",
      "Current NOP: 8.0\n"
     ]
    },
    {
     "name": "stderr",
     "output_type": "stream",
     "text": [
      "Epoch 7/200:   0%|          | 0/788 [00:00<?, ?it/s]<ipython-input-16-286c7866ba4e>:13: UserWarning: To copy construct from a tensor, it is recommended to use sourceTensor.clone().detach() or sourceTensor.clone().detach().requires_grad_(True), rather than torch.tensor(sourceTensor).\n",
      "  torch.tensor(self.labels[idx]).clone().detach())\n",
      "Epoch 7/200: 100%|██████████| 788/788 [00:02<00:00, 315.20it/s]\n"
     ]
    },
    {
     "name": "stdout",
     "output_type": "stream",
     "text": [
      "[INFO] Register count_linear() for <class 'torch.nn.modules.linear.Linear'>.\n",
      "[INFO] Register zero_ops() for <class 'torch.nn.modules.activation.ReLU'>.\n",
      "[INFO] Register zero_ops() for <class 'torch.nn.modules.dropout.Dropout'>.\n",
      "Epoch 7/200\n",
      "Train Accuracy: 0.5275\n",
      "Val Accuracy: 0.6586 | Val F1 Score: 0.6572\n",
      "F1NOP: 0.9273\n",
      "Current NOP: 8.0\n"
     ]
    },
    {
     "name": "stderr",
     "output_type": "stream",
     "text": [
      "\rEpoch 8/200:   0%|          | 0/788 [00:00<?, ?it/s]<ipython-input-16-286c7866ba4e>:13: UserWarning: To copy construct from a tensor, it is recommended to use sourceTensor.clone().detach() or sourceTensor.clone().detach().requires_grad_(True), rather than torch.tensor(sourceTensor).\n",
      "  torch.tensor(self.labels[idx]).clone().detach())\n",
      "Epoch 8/200: 100%|██████████| 788/788 [00:01<00:00, 470.58it/s]\n"
     ]
    },
    {
     "name": "stdout",
     "output_type": "stream",
     "text": [
      "[INFO] Register count_linear() for <class 'torch.nn.modules.linear.Linear'>.\n",
      "[INFO] Register zero_ops() for <class 'torch.nn.modules.activation.ReLU'>.\n",
      "[INFO] Register zero_ops() for <class 'torch.nn.modules.dropout.Dropout'>.\n",
      "Epoch 8/200\n",
      "Train Accuracy: 0.5317\n",
      "Val Accuracy: 0.6843 | Val F1 Score: 0.6833\n",
      "F1NOP: 0.9377\n",
      "Current NOP: 8.0\n"
     ]
    },
    {
     "name": "stderr",
     "output_type": "stream",
     "text": [
      "\rEpoch 9/200:   0%|          | 0/788 [00:00<?, ?it/s]<ipython-input-16-286c7866ba4e>:13: UserWarning: To copy construct from a tensor, it is recommended to use sourceTensor.clone().detach() or sourceTensor.clone().detach().requires_grad_(True), rather than torch.tensor(sourceTensor).\n",
      "  torch.tensor(self.labels[idx]).clone().detach())\n",
      "Epoch 9/200: 100%|██████████| 788/788 [00:01<00:00, 470.74it/s]\n"
     ]
    },
    {
     "name": "stdout",
     "output_type": "stream",
     "text": [
      "[INFO] Register count_linear() for <class 'torch.nn.modules.linear.Linear'>.\n",
      "[INFO] Register zero_ops() for <class 'torch.nn.modules.activation.ReLU'>.\n",
      "[INFO] Register zero_ops() for <class 'torch.nn.modules.dropout.Dropout'>.\n",
      "Epoch 9/200\n",
      "Train Accuracy: 0.5543\n",
      "Val Accuracy: 0.6929 | Val F1 Score: 0.6917\n",
      "F1NOP: 0.9411\n",
      "Current NOP: 8.0\n"
     ]
    },
    {
     "name": "stderr",
     "output_type": "stream",
     "text": [
      "\rEpoch 10/200:   0%|          | 0/788 [00:00<?, ?it/s]<ipython-input-16-286c7866ba4e>:13: UserWarning: To copy construct from a tensor, it is recommended to use sourceTensor.clone().detach() or sourceTensor.clone().detach().requires_grad_(True), rather than torch.tensor(sourceTensor).\n",
      "  torch.tensor(self.labels[idx]).clone().detach())\n",
      "Epoch 10/200: 100%|██████████| 788/788 [00:01<00:00, 462.80it/s]\n"
     ]
    },
    {
     "name": "stdout",
     "output_type": "stream",
     "text": [
      "[INFO] Register count_linear() for <class 'torch.nn.modules.linear.Linear'>.\n",
      "[INFO] Register zero_ops() for <class 'torch.nn.modules.activation.ReLU'>.\n",
      "[INFO] Register zero_ops() for <class 'torch.nn.modules.dropout.Dropout'>.\n",
      "Epoch 10/200\n",
      "Train Accuracy: 0.5519\n",
      "Val Accuracy: 0.7100 | Val F1 Score: 0.7085\n",
      "F1NOP: 0.9478\n",
      "Current NOP: 8.0\n"
     ]
    },
    {
     "name": "stderr",
     "output_type": "stream",
     "text": [
      "\rEpoch 11/200:   0%|          | 0/788 [00:00<?, ?it/s]<ipython-input-16-286c7866ba4e>:13: UserWarning: To copy construct from a tensor, it is recommended to use sourceTensor.clone().detach() or sourceTensor.clone().detach().requires_grad_(True), rather than torch.tensor(sourceTensor).\n",
      "  torch.tensor(self.labels[idx]).clone().detach())\n",
      "Epoch 11/200: 100%|██████████| 788/788 [00:01<00:00, 491.96it/s]\n"
     ]
    },
    {
     "name": "stdout",
     "output_type": "stream",
     "text": [
      "[INFO] Register count_linear() for <class 'torch.nn.modules.linear.Linear'>.\n",
      "[INFO] Register zero_ops() for <class 'torch.nn.modules.activation.ReLU'>.\n",
      "[INFO] Register zero_ops() for <class 'torch.nn.modules.dropout.Dropout'>.\n",
      "Epoch 11/200\n",
      "Train Accuracy: 0.5637\n",
      "Val Accuracy: 0.7114 | Val F1 Score: 0.7099\n",
      "F1NOP: 0.9483\n",
      "Current NOP: 8.0\n"
     ]
    },
    {
     "name": "stderr",
     "output_type": "stream",
     "text": [
      "\rEpoch 12/200:   0%|          | 0/788 [00:00<?, ?it/s]<ipython-input-16-286c7866ba4e>:13: UserWarning: To copy construct from a tensor, it is recommended to use sourceTensor.clone().detach() or sourceTensor.clone().detach().requires_grad_(True), rather than torch.tensor(sourceTensor).\n",
      "  torch.tensor(self.labels[idx]).clone().detach())\n",
      "Epoch 12/200: 100%|██████████| 788/788 [00:03<00:00, 212.74it/s]\n"
     ]
    },
    {
     "name": "stdout",
     "output_type": "stream",
     "text": [
      "[INFO] Register count_linear() for <class 'torch.nn.modules.linear.Linear'>.\n",
      "[INFO] Register zero_ops() for <class 'torch.nn.modules.activation.ReLU'>.\n",
      "[INFO] Register zero_ops() for <class 'torch.nn.modules.dropout.Dropout'>.\n",
      "Epoch 12/200\n",
      "Train Accuracy: 0.5689\n",
      "Val Accuracy: 0.7286 | Val F1 Score: 0.7261\n",
      "F1NOP: 0.9548\n",
      "Current NOP: 8.0\n"
     ]
    },
    {
     "name": "stderr",
     "output_type": "stream",
     "text": [
      "\rEpoch 13/200:   0%|          | 0/788 [00:00<?, ?it/s]<ipython-input-16-286c7866ba4e>:13: UserWarning: To copy construct from a tensor, it is recommended to use sourceTensor.clone().detach() or sourceTensor.clone().detach().requires_grad_(True), rather than torch.tensor(sourceTensor).\n",
      "  torch.tensor(self.labels[idx]).clone().detach())\n",
      "Epoch 13/200: 100%|██████████| 788/788 [00:01<00:00, 612.24it/s]\n"
     ]
    },
    {
     "name": "stdout",
     "output_type": "stream",
     "text": [
      "[INFO] Register count_linear() for <class 'torch.nn.modules.linear.Linear'>.\n",
      "[INFO] Register zero_ops() for <class 'torch.nn.modules.activation.ReLU'>.\n",
      "[INFO] Register zero_ops() for <class 'torch.nn.modules.dropout.Dropout'>.\n",
      "Epoch 13/200\n",
      "Train Accuracy: 0.5670\n",
      "Val Accuracy: 0.7329 | Val F1 Score: 0.7301\n",
      "F1NOP: 0.9564\n",
      "Current NOP: 8.0\n"
     ]
    },
    {
     "name": "stderr",
     "output_type": "stream",
     "text": [
      "\rEpoch 14/200:   0%|          | 0/788 [00:00<?, ?it/s]<ipython-input-16-286c7866ba4e>:13: UserWarning: To copy construct from a tensor, it is recommended to use sourceTensor.clone().detach() or sourceTensor.clone().detach().requires_grad_(True), rather than torch.tensor(sourceTensor).\n",
      "  torch.tensor(self.labels[idx]).clone().detach())\n",
      "Epoch 14/200: 100%|██████████| 788/788 [00:01<00:00, 689.67it/s]\n"
     ]
    },
    {
     "name": "stdout",
     "output_type": "stream",
     "text": [
      "[INFO] Register count_linear() for <class 'torch.nn.modules.linear.Linear'>.\n",
      "[INFO] Register zero_ops() for <class 'torch.nn.modules.activation.ReLU'>.\n",
      "[INFO] Register zero_ops() for <class 'torch.nn.modules.dropout.Dropout'>.\n",
      "Epoch 14/200\n",
      "Train Accuracy: 0.5665\n",
      "Val Accuracy: 0.7371 | Val F1 Score: 0.7342\n",
      "F1NOP: 0.9581\n",
      "Current NOP: 8.0\n"
     ]
    },
    {
     "name": "stderr",
     "output_type": "stream",
     "text": [
      "\rEpoch 15/200:   0%|          | 0/788 [00:00<?, ?it/s]<ipython-input-16-286c7866ba4e>:13: UserWarning: To copy construct from a tensor, it is recommended to use sourceTensor.clone().detach() or sourceTensor.clone().detach().requires_grad_(True), rather than torch.tensor(sourceTensor).\n",
      "  torch.tensor(self.labels[idx]).clone().detach())\n",
      "Epoch 15/200: 100%|██████████| 788/788 [00:00<00:00, 876.13it/s]\n"
     ]
    },
    {
     "name": "stdout",
     "output_type": "stream",
     "text": [
      "[INFO] Register count_linear() for <class 'torch.nn.modules.linear.Linear'>.\n",
      "[INFO] Register zero_ops() for <class 'torch.nn.modules.activation.ReLU'>.\n",
      "[INFO] Register zero_ops() for <class 'torch.nn.modules.dropout.Dropout'>.\n",
      "Epoch 15/200\n",
      "Train Accuracy: 0.5762\n",
      "Val Accuracy: 0.7400 | Val F1 Score: 0.7369\n",
      "F1NOP: 0.9591\n",
      "Current NOP: 8.0\n"
     ]
    },
    {
     "name": "stderr",
     "output_type": "stream",
     "text": [
      "\rEpoch 16/200:   0%|          | 0/788 [00:00<?, ?it/s]<ipython-input-16-286c7866ba4e>:13: UserWarning: To copy construct from a tensor, it is recommended to use sourceTensor.clone().detach() or sourceTensor.clone().detach().requires_grad_(True), rather than torch.tensor(sourceTensor).\n",
      "  torch.tensor(self.labels[idx]).clone().detach())\n",
      "Epoch 16/200: 100%|██████████| 788/788 [00:00<00:00, 877.78it/s]\n"
     ]
    },
    {
     "name": "stdout",
     "output_type": "stream",
     "text": [
      "[INFO] Register count_linear() for <class 'torch.nn.modules.linear.Linear'>.\n",
      "[INFO] Register zero_ops() for <class 'torch.nn.modules.activation.ReLU'>.\n",
      "[INFO] Register zero_ops() for <class 'torch.nn.modules.dropout.Dropout'>.\n",
      "Epoch 16/200\n",
      "Train Accuracy: 0.5740\n",
      "Val Accuracy: 0.7414 | Val F1 Score: 0.7382\n",
      "F1NOP: 0.9597\n",
      "Current NOP: 8.0\n"
     ]
    },
    {
     "name": "stderr",
     "output_type": "stream",
     "text": [
      "\rEpoch 17/200:   0%|          | 0/788 [00:00<?, ?it/s]<ipython-input-16-286c7866ba4e>:13: UserWarning: To copy construct from a tensor, it is recommended to use sourceTensor.clone().detach() or sourceTensor.clone().detach().requires_grad_(True), rather than torch.tensor(sourceTensor).\n",
      "  torch.tensor(self.labels[idx]).clone().detach())\n",
      "Epoch 17/200: 100%|██████████| 788/788 [00:00<00:00, 862.49it/s]\n"
     ]
    },
    {
     "name": "stdout",
     "output_type": "stream",
     "text": [
      "[INFO] Register count_linear() for <class 'torch.nn.modules.linear.Linear'>.\n",
      "[INFO] Register zero_ops() for <class 'torch.nn.modules.activation.ReLU'>.\n",
      "[INFO] Register zero_ops() for <class 'torch.nn.modules.dropout.Dropout'>.\n",
      "Epoch 17/200\n",
      "Train Accuracy: 0.5808\n",
      "Val Accuracy: 0.7443 | Val F1 Score: 0.7409\n",
      "F1NOP: 0.9608\n",
      "Current NOP: 8.0\n"
     ]
    },
    {
     "name": "stderr",
     "output_type": "stream",
     "text": [
      "\rEpoch 18/200:   0%|          | 0/788 [00:00<?, ?it/s]<ipython-input-16-286c7866ba4e>:13: UserWarning: To copy construct from a tensor, it is recommended to use sourceTensor.clone().detach() or sourceTensor.clone().detach().requires_grad_(True), rather than torch.tensor(sourceTensor).\n",
      "  torch.tensor(self.labels[idx]).clone().detach())\n",
      "Epoch 18/200: 100%|██████████| 788/788 [00:00<00:00, 865.76it/s]\n"
     ]
    },
    {
     "name": "stdout",
     "output_type": "stream",
     "text": [
      "[INFO] Register count_linear() for <class 'torch.nn.modules.linear.Linear'>.\n",
      "[INFO] Register zero_ops() for <class 'torch.nn.modules.activation.ReLU'>.\n",
      "[INFO] Register zero_ops() for <class 'torch.nn.modules.dropout.Dropout'>.\n",
      "Epoch 18/200\n",
      "Train Accuracy: 0.5763\n",
      "Val Accuracy: 0.7486 | Val F1 Score: 0.7448\n",
      "F1NOP: 0.9623\n",
      "Current NOP: 8.0\n"
     ]
    },
    {
     "name": "stderr",
     "output_type": "stream",
     "text": [
      "\rEpoch 19/200:   0%|          | 0/788 [00:00<?, ?it/s]<ipython-input-16-286c7866ba4e>:13: UserWarning: To copy construct from a tensor, it is recommended to use sourceTensor.clone().detach() or sourceTensor.clone().detach().requires_grad_(True), rather than torch.tensor(sourceTensor).\n",
      "  torch.tensor(self.labels[idx]).clone().detach())\n",
      "Epoch 19/200: 100%|██████████| 788/788 [00:00<00:00, 819.75it/s]\n"
     ]
    },
    {
     "name": "stdout",
     "output_type": "stream",
     "text": [
      "[INFO] Register count_linear() for <class 'torch.nn.modules.linear.Linear'>.\n",
      "[INFO] Register zero_ops() for <class 'torch.nn.modules.activation.ReLU'>.\n",
      "[INFO] Register zero_ops() for <class 'torch.nn.modules.dropout.Dropout'>.\n",
      "Epoch 19/200\n",
      "Train Accuracy: 0.5787\n",
      "Val Accuracy: 0.7500 | Val F1 Score: 0.7462\n",
      "F1NOP: 0.9629\n",
      "Current NOP: 8.0\n"
     ]
    },
    {
     "name": "stderr",
     "output_type": "stream",
     "text": [
      "Epoch 20/200:   0%|          | 0/788 [00:00<?, ?it/s]<ipython-input-16-286c7866ba4e>:13: UserWarning: To copy construct from a tensor, it is recommended to use sourceTensor.clone().detach() or sourceTensor.clone().detach().requires_grad_(True), rather than torch.tensor(sourceTensor).\n",
      "  torch.tensor(self.labels[idx]).clone().detach())\n",
      "Epoch 20/200: 100%|██████████| 788/788 [00:00<00:00, 863.38it/s]\n"
     ]
    },
    {
     "name": "stdout",
     "output_type": "stream",
     "text": [
      "[INFO] Register count_linear() for <class 'torch.nn.modules.linear.Linear'>.\n",
      "[INFO] Register zero_ops() for <class 'torch.nn.modules.activation.ReLU'>.\n",
      "[INFO] Register zero_ops() for <class 'torch.nn.modules.dropout.Dropout'>.\n",
      "Epoch 20/200\n",
      "Train Accuracy: 0.5762\n",
      "Val Accuracy: 0.7500 | Val F1 Score: 0.7461\n",
      "F1NOP: 0.9628\n",
      "Current NOP: 8.0\n"
     ]
    },
    {
     "name": "stderr",
     "output_type": "stream",
     "text": [
      "\rEpoch 21/200:   0%|          | 0/788 [00:00<?, ?it/s]<ipython-input-16-286c7866ba4e>:13: UserWarning: To copy construct from a tensor, it is recommended to use sourceTensor.clone().detach() or sourceTensor.clone().detach().requires_grad_(True), rather than torch.tensor(sourceTensor).\n",
      "  torch.tensor(self.labels[idx]).clone().detach())\n",
      "Epoch 21/200: 100%|██████████| 788/788 [00:00<00:00, 864.52it/s]\n"
     ]
    },
    {
     "name": "stdout",
     "output_type": "stream",
     "text": [
      "[INFO] Register count_linear() for <class 'torch.nn.modules.linear.Linear'>.\n",
      "[INFO] Register zero_ops() for <class 'torch.nn.modules.activation.ReLU'>.\n",
      "[INFO] Register zero_ops() for <class 'torch.nn.modules.dropout.Dropout'>.\n",
      "Epoch 21/200\n",
      "Train Accuracy: 0.5868\n",
      "Val Accuracy: 0.7500 | Val F1 Score: 0.7461\n",
      "F1NOP: 0.9628\n",
      "Current NOP: 8.0\n"
     ]
    },
    {
     "name": "stderr",
     "output_type": "stream",
     "text": [
      "\rEpoch 22/200:   0%|          | 0/788 [00:00<?, ?it/s]<ipython-input-16-286c7866ba4e>:13: UserWarning: To copy construct from a tensor, it is recommended to use sourceTensor.clone().detach() or sourceTensor.clone().detach().requires_grad_(True), rather than torch.tensor(sourceTensor).\n",
      "  torch.tensor(self.labels[idx]).clone().detach())\n",
      "Epoch 22/200: 100%|██████████| 788/788 [00:00<00:00, 840.03it/s]\n"
     ]
    },
    {
     "name": "stdout",
     "output_type": "stream",
     "text": [
      "[INFO] Register count_linear() for <class 'torch.nn.modules.linear.Linear'>.\n",
      "[INFO] Register zero_ops() for <class 'torch.nn.modules.activation.ReLU'>.\n",
      "[INFO] Register zero_ops() for <class 'torch.nn.modules.dropout.Dropout'>.\n",
      "Epoch 22/200\n",
      "Train Accuracy: 0.5852\n",
      "Val Accuracy: 0.7500 | Val F1 Score: 0.7461\n",
      "F1NOP: 0.9628\n",
      "Current NOP: 8.0\n"
     ]
    },
    {
     "name": "stderr",
     "output_type": "stream",
     "text": [
      "\rEpoch 23/200:   0%|          | 0/788 [00:00<?, ?it/s]<ipython-input-16-286c7866ba4e>:13: UserWarning: To copy construct from a tensor, it is recommended to use sourceTensor.clone().detach() or sourceTensor.clone().detach().requires_grad_(True), rather than torch.tensor(sourceTensor).\n",
      "  torch.tensor(self.labels[idx]).clone().detach())\n",
      "Epoch 23/200: 100%|██████████| 788/788 [00:00<00:00, 798.64it/s]\n"
     ]
    },
    {
     "name": "stdout",
     "output_type": "stream",
     "text": [
      "[INFO] Register count_linear() for <class 'torch.nn.modules.linear.Linear'>.\n",
      "[INFO] Register zero_ops() for <class 'torch.nn.modules.activation.ReLU'>.\n",
      "[INFO] Register zero_ops() for <class 'torch.nn.modules.dropout.Dropout'>.\n",
      "Epoch 23/200\n",
      "Train Accuracy: 0.5733\n",
      "Val Accuracy: 0.7514 | Val F1 Score: 0.7477\n",
      "F1NOP: 0.9635\n",
      "Current NOP: 8.0\n"
     ]
    },
    {
     "name": "stderr",
     "output_type": "stream",
     "text": [
      "\rEpoch 24/200:   0%|          | 0/788 [00:00<?, ?it/s]<ipython-input-16-286c7866ba4e>:13: UserWarning: To copy construct from a tensor, it is recommended to use sourceTensor.clone().detach() or sourceTensor.clone().detach().requires_grad_(True), rather than torch.tensor(sourceTensor).\n",
      "  torch.tensor(self.labels[idx]).clone().detach())\n",
      "Epoch 24/200: 100%|██████████| 788/788 [00:01<00:00, 683.48it/s]\n"
     ]
    },
    {
     "name": "stdout",
     "output_type": "stream",
     "text": [
      "[INFO] Register count_linear() for <class 'torch.nn.modules.linear.Linear'>.\n",
      "[INFO] Register zero_ops() for <class 'torch.nn.modules.activation.ReLU'>.\n",
      "[INFO] Register zero_ops() for <class 'torch.nn.modules.dropout.Dropout'>.\n",
      "Epoch 24/200\n",
      "Train Accuracy: 0.5770\n",
      "Val Accuracy: 0.7529 | Val F1 Score: 0.7491\n",
      "F1NOP: 0.9640\n",
      "Current NOP: 8.0\n"
     ]
    },
    {
     "name": "stderr",
     "output_type": "stream",
     "text": [
      "\rEpoch 25/200:   0%|          | 0/788 [00:00<?, ?it/s]<ipython-input-16-286c7866ba4e>:13: UserWarning: To copy construct from a tensor, it is recommended to use sourceTensor.clone().detach() or sourceTensor.clone().detach().requires_grad_(True), rather than torch.tensor(sourceTensor).\n",
      "  torch.tensor(self.labels[idx]).clone().detach())\n",
      "Epoch 25/200: 100%|██████████| 788/788 [00:01<00:00, 649.85it/s]\n"
     ]
    },
    {
     "name": "stdout",
     "output_type": "stream",
     "text": [
      "[INFO] Register count_linear() for <class 'torch.nn.modules.linear.Linear'>.\n",
      "[INFO] Register zero_ops() for <class 'torch.nn.modules.activation.ReLU'>.\n",
      "[INFO] Register zero_ops() for <class 'torch.nn.modules.dropout.Dropout'>.\n",
      "Epoch 25/200\n",
      "Train Accuracy: 0.5829\n",
      "Val Accuracy: 0.7529 | Val F1 Score: 0.7491\n",
      "F1NOP: 0.9640\n",
      "Current NOP: 8.0\n"
     ]
    },
    {
     "name": "stderr",
     "output_type": "stream",
     "text": [
      "\rEpoch 26/200:   0%|          | 0/788 [00:00<?, ?it/s]<ipython-input-16-286c7866ba4e>:13: UserWarning: To copy construct from a tensor, it is recommended to use sourceTensor.clone().detach() or sourceTensor.clone().detach().requires_grad_(True), rather than torch.tensor(sourceTensor).\n",
      "  torch.tensor(self.labels[idx]).clone().detach())\n",
      "Epoch 26/200: 100%|██████████| 788/788 [00:01<00:00, 632.46it/s]\n"
     ]
    },
    {
     "name": "stdout",
     "output_type": "stream",
     "text": [
      "[INFO] Register count_linear() for <class 'torch.nn.modules.linear.Linear'>.\n",
      "[INFO] Register zero_ops() for <class 'torch.nn.modules.activation.ReLU'>.\n",
      "[INFO] Register zero_ops() for <class 'torch.nn.modules.dropout.Dropout'>.\n",
      "Epoch 26/200\n",
      "Train Accuracy: 0.5863\n",
      "Val Accuracy: 0.7529 | Val F1 Score: 0.7491\n",
      "F1NOP: 0.9640\n",
      "Current NOP: 8.0\n"
     ]
    },
    {
     "name": "stderr",
     "output_type": "stream",
     "text": [
      "\rEpoch 27/200:   0%|          | 0/788 [00:00<?, ?it/s]<ipython-input-16-286c7866ba4e>:13: UserWarning: To copy construct from a tensor, it is recommended to use sourceTensor.clone().detach() or sourceTensor.clone().detach().requires_grad_(True), rather than torch.tensor(sourceTensor).\n",
      "  torch.tensor(self.labels[idx]).clone().detach())\n",
      "Epoch 27/200: 100%|██████████| 788/788 [00:01<00:00, 607.30it/s]\n"
     ]
    },
    {
     "name": "stdout",
     "output_type": "stream",
     "text": [
      "[INFO] Register count_linear() for <class 'torch.nn.modules.linear.Linear'>.\n",
      "[INFO] Register zero_ops() for <class 'torch.nn.modules.activation.ReLU'>.\n",
      "[INFO] Register zero_ops() for <class 'torch.nn.modules.dropout.Dropout'>.\n",
      "Epoch 27/200\n",
      "Train Accuracy: 0.5849\n",
      "Val Accuracy: 0.7529 | Val F1 Score: 0.7491\n",
      "F1NOP: 0.9640\n",
      "Current NOP: 8.0\n"
     ]
    },
    {
     "name": "stderr",
     "output_type": "stream",
     "text": [
      "\rEpoch 28/200:   0%|          | 0/788 [00:00<?, ?it/s]<ipython-input-16-286c7866ba4e>:13: UserWarning: To copy construct from a tensor, it is recommended to use sourceTensor.clone().detach() or sourceTensor.clone().detach().requires_grad_(True), rather than torch.tensor(sourceTensor).\n",
      "  torch.tensor(self.labels[idx]).clone().detach())\n",
      "Epoch 28/200: 100%|██████████| 788/788 [00:00<00:00, 880.62it/s]\n"
     ]
    },
    {
     "name": "stdout",
     "output_type": "stream",
     "text": [
      "[INFO] Register count_linear() for <class 'torch.nn.modules.linear.Linear'>.\n",
      "[INFO] Register zero_ops() for <class 'torch.nn.modules.activation.ReLU'>.\n",
      "[INFO] Register zero_ops() for <class 'torch.nn.modules.dropout.Dropout'>.\n",
      "Epoch 28/200\n",
      "Train Accuracy: 0.5779\n",
      "Val Accuracy: 0.7529 | Val F1 Score: 0.7491\n",
      "F1NOP: 0.9640\n",
      "Current NOP: 8.0\n"
     ]
    },
    {
     "name": "stderr",
     "output_type": "stream",
     "text": [
      "\rEpoch 29/200:   0%|          | 0/788 [00:00<?, ?it/s]<ipython-input-16-286c7866ba4e>:13: UserWarning: To copy construct from a tensor, it is recommended to use sourceTensor.clone().detach() or sourceTensor.clone().detach().requires_grad_(True), rather than torch.tensor(sourceTensor).\n",
      "  torch.tensor(self.labels[idx]).clone().detach())\n",
      "Epoch 29/200: 100%|██████████| 788/788 [00:00<00:00, 873.55it/s]\n"
     ]
    },
    {
     "name": "stdout",
     "output_type": "stream",
     "text": [
      "[INFO] Register count_linear() for <class 'torch.nn.modules.linear.Linear'>.\n",
      "[INFO] Register zero_ops() for <class 'torch.nn.modules.activation.ReLU'>.\n",
      "[INFO] Register zero_ops() for <class 'torch.nn.modules.dropout.Dropout'>.\n",
      "Epoch 29/200\n",
      "Train Accuracy: 0.5951\n",
      "Val Accuracy: 0.7586 | Val F1 Score: 0.7544\n",
      "F1NOP: 0.9662\n",
      "Current NOP: 8.0\n"
     ]
    },
    {
     "name": "stderr",
     "output_type": "stream",
     "text": [
      "\rEpoch 30/200:   0%|          | 0/788 [00:00<?, ?it/s]<ipython-input-16-286c7866ba4e>:13: UserWarning: To copy construct from a tensor, it is recommended to use sourceTensor.clone().detach() or sourceTensor.clone().detach().requires_grad_(True), rather than torch.tensor(sourceTensor).\n",
      "  torch.tensor(self.labels[idx]).clone().detach())\n",
      "Epoch 30/200: 100%|██████████| 788/788 [00:00<00:00, 855.13it/s]\n"
     ]
    },
    {
     "name": "stdout",
     "output_type": "stream",
     "text": [
      "[INFO] Register count_linear() for <class 'torch.nn.modules.linear.Linear'>.\n",
      "[INFO] Register zero_ops() for <class 'torch.nn.modules.activation.ReLU'>.\n",
      "[INFO] Register zero_ops() for <class 'torch.nn.modules.dropout.Dropout'>.\n",
      "Epoch 30/200\n",
      "Train Accuracy: 0.5846\n",
      "Val Accuracy: 0.7571 | Val F1 Score: 0.7530\n",
      "F1NOP: 0.9656\n",
      "Current NOP: 8.0\n"
     ]
    },
    {
     "name": "stderr",
     "output_type": "stream",
     "text": [
      "\rEpoch 31/200:   0%|          | 0/788 [00:00<?, ?it/s]<ipython-input-16-286c7866ba4e>:13: UserWarning: To copy construct from a tensor, it is recommended to use sourceTensor.clone().detach() or sourceTensor.clone().detach().requires_grad_(True), rather than torch.tensor(sourceTensor).\n",
      "  torch.tensor(self.labels[idx]).clone().detach())\n",
      "Epoch 31/200: 100%|██████████| 788/788 [00:01<00:00, 785.48it/s]\n"
     ]
    },
    {
     "name": "stdout",
     "output_type": "stream",
     "text": [
      "[INFO] Register count_linear() for <class 'torch.nn.modules.linear.Linear'>.\n",
      "[INFO] Register zero_ops() for <class 'torch.nn.modules.activation.ReLU'>.\n",
      "[INFO] Register zero_ops() for <class 'torch.nn.modules.dropout.Dropout'>.\n",
      "Epoch 31/200\n",
      "Train Accuracy: 0.5884\n",
      "Val Accuracy: 0.7571 | Val F1 Score: 0.7530\n",
      "F1NOP: 0.9656\n",
      "Current NOP: 8.0\n"
     ]
    },
    {
     "name": "stderr",
     "output_type": "stream",
     "text": [
      "\rEpoch 32/200:   0%|          | 0/788 [00:00<?, ?it/s]<ipython-input-16-286c7866ba4e>:13: UserWarning: To copy construct from a tensor, it is recommended to use sourceTensor.clone().detach() or sourceTensor.clone().detach().requires_grad_(True), rather than torch.tensor(sourceTensor).\n",
      "  torch.tensor(self.labels[idx]).clone().detach())\n",
      "Epoch 32/200: 100%|██████████| 788/788 [00:00<00:00, 881.23it/s]\n"
     ]
    },
    {
     "name": "stdout",
     "output_type": "stream",
     "text": [
      "[INFO] Register count_linear() for <class 'torch.nn.modules.linear.Linear'>.\n",
      "[INFO] Register zero_ops() for <class 'torch.nn.modules.activation.ReLU'>.\n",
      "[INFO] Register zero_ops() for <class 'torch.nn.modules.dropout.Dropout'>.\n",
      "Epoch 32/200\n",
      "Train Accuracy: 0.5848\n",
      "Val Accuracy: 0.7571 | Val F1 Score: 0.7530\n",
      "F1NOP: 0.9656\n",
      "Current NOP: 8.0\n"
     ]
    },
    {
     "name": "stderr",
     "output_type": "stream",
     "text": [
      "\rEpoch 33/200:   0%|          | 0/788 [00:00<?, ?it/s]<ipython-input-16-286c7866ba4e>:13: UserWarning: To copy construct from a tensor, it is recommended to use sourceTensor.clone().detach() or sourceTensor.clone().detach().requires_grad_(True), rather than torch.tensor(sourceTensor).\n",
      "  torch.tensor(self.labels[idx]).clone().detach())\n",
      "Epoch 33/200: 100%|██████████| 788/788 [00:00<00:00, 804.78it/s]\n"
     ]
    },
    {
     "name": "stdout",
     "output_type": "stream",
     "text": [
      "[INFO] Register count_linear() for <class 'torch.nn.modules.linear.Linear'>.\n",
      "[INFO] Register zero_ops() for <class 'torch.nn.modules.activation.ReLU'>.\n",
      "[INFO] Register zero_ops() for <class 'torch.nn.modules.dropout.Dropout'>.\n",
      "Epoch 33/200\n",
      "Train Accuracy: 0.5860\n",
      "Val Accuracy: 0.7571 | Val F1 Score: 0.7530\n",
      "F1NOP: 0.9656\n",
      "Current NOP: 8.0\n"
     ]
    },
    {
     "name": "stderr",
     "output_type": "stream",
     "text": [
      "\rEpoch 34/200:   0%|          | 0/788 [00:00<?, ?it/s]<ipython-input-16-286c7866ba4e>:13: UserWarning: To copy construct from a tensor, it is recommended to use sourceTensor.clone().detach() or sourceTensor.clone().detach().requires_grad_(True), rather than torch.tensor(sourceTensor).\n",
      "  torch.tensor(self.labels[idx]).clone().detach())\n",
      "Epoch 34/200: 100%|██████████| 788/788 [00:00<00:00, 831.66it/s]\n"
     ]
    },
    {
     "name": "stdout",
     "output_type": "stream",
     "text": [
      "[INFO] Register count_linear() for <class 'torch.nn.modules.linear.Linear'>.\n",
      "[INFO] Register zero_ops() for <class 'torch.nn.modules.activation.ReLU'>.\n",
      "[INFO] Register zero_ops() for <class 'torch.nn.modules.dropout.Dropout'>.\n",
      "Epoch 34/200\n",
      "Train Accuracy: 0.5892\n",
      "Val Accuracy: 0.7571 | Val F1 Score: 0.7530\n",
      "F1NOP: 0.9656\n",
      "Current NOP: 8.0\n"
     ]
    },
    {
     "name": "stderr",
     "output_type": "stream",
     "text": [
      "\rEpoch 35/200:   0%|          | 0/788 [00:00<?, ?it/s]<ipython-input-16-286c7866ba4e>:13: UserWarning: To copy construct from a tensor, it is recommended to use sourceTensor.clone().detach() or sourceTensor.clone().detach().requires_grad_(True), rather than torch.tensor(sourceTensor).\n",
      "  torch.tensor(self.labels[idx]).clone().detach())\n",
      "Epoch 35/200: 100%|██████████| 788/788 [00:00<00:00, 828.51it/s]\n"
     ]
    },
    {
     "name": "stdout",
     "output_type": "stream",
     "text": [
      "[INFO] Register count_linear() for <class 'torch.nn.modules.linear.Linear'>.\n",
      "[INFO] Register zero_ops() for <class 'torch.nn.modules.activation.ReLU'>.\n",
      "[INFO] Register zero_ops() for <class 'torch.nn.modules.dropout.Dropout'>.\n",
      "Epoch 35/200\n",
      "Train Accuracy: 0.5717\n",
      "Val Accuracy: 0.7571 | Val F1 Score: 0.7530\n",
      "F1NOP: 0.9656\n",
      "Current NOP: 8.0\n"
     ]
    },
    {
     "name": "stderr",
     "output_type": "stream",
     "text": [
      "\rEpoch 36/200:   0%|          | 0/788 [00:00<?, ?it/s]<ipython-input-16-286c7866ba4e>:13: UserWarning: To copy construct from a tensor, it is recommended to use sourceTensor.clone().detach() or sourceTensor.clone().detach().requires_grad_(True), rather than torch.tensor(sourceTensor).\n",
      "  torch.tensor(self.labels[idx]).clone().detach())\n",
      "Epoch 36/200: 100%|██████████| 788/788 [00:00<00:00, 832.99it/s]\n"
     ]
    },
    {
     "name": "stdout",
     "output_type": "stream",
     "text": [
      "[INFO] Register count_linear() for <class 'torch.nn.modules.linear.Linear'>.\n",
      "[INFO] Register zero_ops() for <class 'torch.nn.modules.activation.ReLU'>.\n",
      "[INFO] Register zero_ops() for <class 'torch.nn.modules.dropout.Dropout'>.\n",
      "Epoch 36/200\n",
      "Train Accuracy: 0.5846\n",
      "Val Accuracy: 0.7571 | Val F1 Score: 0.7530\n",
      "F1NOP: 0.9656\n",
      "Current NOP: 8.0\n"
     ]
    },
    {
     "name": "stderr",
     "output_type": "stream",
     "text": [
      "\rEpoch 37/200:   0%|          | 0/788 [00:00<?, ?it/s]<ipython-input-16-286c7866ba4e>:13: UserWarning: To copy construct from a tensor, it is recommended to use sourceTensor.clone().detach() or sourceTensor.clone().detach().requires_grad_(True), rather than torch.tensor(sourceTensor).\n",
      "  torch.tensor(self.labels[idx]).clone().detach())\n",
      "Epoch 37/200: 100%|██████████| 788/788 [00:01<00:00, 752.06it/s]\n"
     ]
    },
    {
     "name": "stdout",
     "output_type": "stream",
     "text": [
      "[INFO] Register count_linear() for <class 'torch.nn.modules.linear.Linear'>.\n",
      "[INFO] Register zero_ops() for <class 'torch.nn.modules.activation.ReLU'>.\n",
      "[INFO] Register zero_ops() for <class 'torch.nn.modules.dropout.Dropout'>.\n",
      "Epoch 37/200\n",
      "Train Accuracy: 0.5917\n",
      "Val Accuracy: 0.7571 | Val F1 Score: 0.7530\n",
      "F1NOP: 0.9656\n",
      "Current NOP: 8.0\n"
     ]
    },
    {
     "name": "stderr",
     "output_type": "stream",
     "text": [
      "\rEpoch 38/200:   0%|          | 0/788 [00:00<?, ?it/s]<ipython-input-16-286c7866ba4e>:13: UserWarning: To copy construct from a tensor, it is recommended to use sourceTensor.clone().detach() or sourceTensor.clone().detach().requires_grad_(True), rather than torch.tensor(sourceTensor).\n",
      "  torch.tensor(self.labels[idx]).clone().detach())\n",
      "Epoch 38/200: 100%|██████████| 788/788 [00:01<00:00, 641.06it/s]\n"
     ]
    },
    {
     "name": "stdout",
     "output_type": "stream",
     "text": [
      "[INFO] Register count_linear() for <class 'torch.nn.modules.linear.Linear'>.\n",
      "[INFO] Register zero_ops() for <class 'torch.nn.modules.activation.ReLU'>.\n",
      "[INFO] Register zero_ops() for <class 'torch.nn.modules.dropout.Dropout'>.\n",
      "Epoch 38/200\n",
      "Train Accuracy: 0.5835\n",
      "Val Accuracy: 0.7557 | Val F1 Score: 0.7516\n",
      "F1NOP: 0.9650\n",
      "Current NOP: 8.0\n"
     ]
    },
    {
     "name": "stderr",
     "output_type": "stream",
     "text": [
      "\rEpoch 39/200:   0%|          | 0/788 [00:00<?, ?it/s]<ipython-input-16-286c7866ba4e>:13: UserWarning: To copy construct from a tensor, it is recommended to use sourceTensor.clone().detach() or sourceTensor.clone().detach().requires_grad_(True), rather than torch.tensor(sourceTensor).\n",
      "  torch.tensor(self.labels[idx]).clone().detach())\n",
      "Epoch 39/200: 100%|██████████| 788/788 [00:01<00:00, 650.86it/s]\n"
     ]
    },
    {
     "name": "stdout",
     "output_type": "stream",
     "text": [
      "[INFO] Register count_linear() for <class 'torch.nn.modules.linear.Linear'>.\n",
      "[INFO] Register zero_ops() for <class 'torch.nn.modules.activation.ReLU'>.\n",
      "[INFO] Register zero_ops() for <class 'torch.nn.modules.dropout.Dropout'>.\n",
      "Epoch 39/200\n",
      "Train Accuracy: 0.5932\n",
      "Val Accuracy: 0.7557 | Val F1 Score: 0.7516\n",
      "F1NOP: 0.9650\n",
      "Current NOP: 8.0\n"
     ]
    },
    {
     "name": "stderr",
     "output_type": "stream",
     "text": [
      "\rEpoch 40/200:   0%|          | 0/788 [00:00<?, ?it/s]<ipython-input-16-286c7866ba4e>:13: UserWarning: To copy construct from a tensor, it is recommended to use sourceTensor.clone().detach() or sourceTensor.clone().detach().requires_grad_(True), rather than torch.tensor(sourceTensor).\n",
      "  torch.tensor(self.labels[idx]).clone().detach())\n",
      "Epoch 40/200: 100%|██████████| 788/788 [00:01<00:00, 593.01it/s]\n"
     ]
    },
    {
     "name": "stdout",
     "output_type": "stream",
     "text": [
      "[INFO] Register count_linear() for <class 'torch.nn.modules.linear.Linear'>.\n",
      "[INFO] Register zero_ops() for <class 'torch.nn.modules.activation.ReLU'>.\n",
      "[INFO] Register zero_ops() for <class 'torch.nn.modules.dropout.Dropout'>.\n",
      "Epoch 40/200\n",
      "Train Accuracy: 0.5875\n",
      "Val Accuracy: 0.7557 | Val F1 Score: 0.7516\n",
      "F1NOP: 0.9650\n",
      "Current NOP: 8.0\n"
     ]
    },
    {
     "name": "stderr",
     "output_type": "stream",
     "text": [
      "\rEpoch 41/200:   0%|          | 0/788 [00:00<?, ?it/s]<ipython-input-16-286c7866ba4e>:13: UserWarning: To copy construct from a tensor, it is recommended to use sourceTensor.clone().detach() or sourceTensor.clone().detach().requires_grad_(True), rather than torch.tensor(sourceTensor).\n",
      "  torch.tensor(self.labels[idx]).clone().detach())\n",
      "Epoch 41/200: 100%|██████████| 788/788 [00:01<00:00, 717.96it/s]\n"
     ]
    },
    {
     "name": "stdout",
     "output_type": "stream",
     "text": [
      "[INFO] Register count_linear() for <class 'torch.nn.modules.linear.Linear'>.\n",
      "[INFO] Register zero_ops() for <class 'torch.nn.modules.activation.ReLU'>.\n",
      "[INFO] Register zero_ops() for <class 'torch.nn.modules.dropout.Dropout'>.\n",
      "Epoch 41/200\n",
      "Train Accuracy: 0.5940\n",
      "Val Accuracy: 0.7571 | Val F1 Score: 0.7529\n",
      "F1NOP: 0.9656\n",
      "Current NOP: 8.0\n"
     ]
    },
    {
     "name": "stderr",
     "output_type": "stream",
     "text": [
      "\rEpoch 42/200:   0%|          | 0/788 [00:00<?, ?it/s]<ipython-input-16-286c7866ba4e>:13: UserWarning: To copy construct from a tensor, it is recommended to use sourceTensor.clone().detach() or sourceTensor.clone().detach().requires_grad_(True), rather than torch.tensor(sourceTensor).\n",
      "  torch.tensor(self.labels[idx]).clone().detach())\n",
      "Epoch 42/200: 100%|██████████| 788/788 [00:00<00:00, 814.28it/s]\n"
     ]
    },
    {
     "name": "stdout",
     "output_type": "stream",
     "text": [
      "[INFO] Register count_linear() for <class 'torch.nn.modules.linear.Linear'>.\n",
      "[INFO] Register zero_ops() for <class 'torch.nn.modules.activation.ReLU'>.\n",
      "[INFO] Register zero_ops() for <class 'torch.nn.modules.dropout.Dropout'>.\n",
      "Epoch 42/200\n",
      "Train Accuracy: 0.5868\n",
      "Val Accuracy: 0.7571 | Val F1 Score: 0.7529\n",
      "F1NOP: 0.9656\n",
      "Current NOP: 8.0\n"
     ]
    },
    {
     "name": "stderr",
     "output_type": "stream",
     "text": [
      "\rEpoch 43/200:   0%|          | 0/788 [00:00<?, ?it/s]<ipython-input-16-286c7866ba4e>:13: UserWarning: To copy construct from a tensor, it is recommended to use sourceTensor.clone().detach() or sourceTensor.clone().detach().requires_grad_(True), rather than torch.tensor(sourceTensor).\n",
      "  torch.tensor(self.labels[idx]).clone().detach())\n",
      "Epoch 43/200: 100%|██████████| 788/788 [00:01<00:00, 784.30it/s]\n"
     ]
    },
    {
     "name": "stdout",
     "output_type": "stream",
     "text": [
      "[INFO] Register count_linear() for <class 'torch.nn.modules.linear.Linear'>.\n",
      "[INFO] Register zero_ops() for <class 'torch.nn.modules.activation.ReLU'>.\n",
      "[INFO] Register zero_ops() for <class 'torch.nn.modules.dropout.Dropout'>.\n",
      "Epoch 43/200\n",
      "Train Accuracy: 0.5768\n",
      "Val Accuracy: 0.7557 | Val F1 Score: 0.7515\n",
      "F1NOP: 0.9650\n",
      "Current NOP: 8.0\n"
     ]
    },
    {
     "name": "stderr",
     "output_type": "stream",
     "text": [
      "\rEpoch 44/200:   0%|          | 0/788 [00:00<?, ?it/s]<ipython-input-16-286c7866ba4e>:13: UserWarning: To copy construct from a tensor, it is recommended to use sourceTensor.clone().detach() or sourceTensor.clone().detach().requires_grad_(True), rather than torch.tensor(sourceTensor).\n",
      "  torch.tensor(self.labels[idx]).clone().detach())\n",
      "Epoch 44/200: 100%|██████████| 788/788 [00:00<00:00, 829.82it/s]\n"
     ]
    },
    {
     "name": "stdout",
     "output_type": "stream",
     "text": [
      "[INFO] Register count_linear() for <class 'torch.nn.modules.linear.Linear'>.\n",
      "[INFO] Register zero_ops() for <class 'torch.nn.modules.activation.ReLU'>.\n",
      "[INFO] Register zero_ops() for <class 'torch.nn.modules.dropout.Dropout'>.\n",
      "Epoch 44/200\n",
      "Train Accuracy: 0.5790\n",
      "Val Accuracy: 0.7571 | Val F1 Score: 0.7529\n",
      "F1NOP: 0.9655\n",
      "Current NOP: 8.0\n"
     ]
    },
    {
     "name": "stderr",
     "output_type": "stream",
     "text": [
      "\rEpoch 45/200:   0%|          | 0/788 [00:00<?, ?it/s]<ipython-input-16-286c7866ba4e>:13: UserWarning: To copy construct from a tensor, it is recommended to use sourceTensor.clone().detach() or sourceTensor.clone().detach().requires_grad_(True), rather than torch.tensor(sourceTensor).\n",
      "  torch.tensor(self.labels[idx]).clone().detach())\n",
      "Epoch 45/200: 100%|██████████| 788/788 [00:00<00:00, 826.39it/s]\n"
     ]
    },
    {
     "name": "stdout",
     "output_type": "stream",
     "text": [
      "[INFO] Register count_linear() for <class 'torch.nn.modules.linear.Linear'>.\n",
      "[INFO] Register zero_ops() for <class 'torch.nn.modules.activation.ReLU'>.\n",
      "[INFO] Register zero_ops() for <class 'torch.nn.modules.dropout.Dropout'>.\n",
      "Epoch 45/200\n",
      "Train Accuracy: 0.5903\n",
      "Val Accuracy: 0.7571 | Val F1 Score: 0.7529\n",
      "F1NOP: 0.9656\n",
      "Current NOP: 8.0\n"
     ]
    },
    {
     "name": "stderr",
     "output_type": "stream",
     "text": [
      "\rEpoch 46/200:   0%|          | 0/788 [00:00<?, ?it/s]<ipython-input-16-286c7866ba4e>:13: UserWarning: To copy construct from a tensor, it is recommended to use sourceTensor.clone().detach() or sourceTensor.clone().detach().requires_grad_(True), rather than torch.tensor(sourceTensor).\n",
      "  torch.tensor(self.labels[idx]).clone().detach())\n",
      "Epoch 46/200: 100%|██████████| 788/788 [00:00<00:00, 822.47it/s]\n"
     ]
    },
    {
     "name": "stdout",
     "output_type": "stream",
     "text": [
      "[INFO] Register count_linear() for <class 'torch.nn.modules.linear.Linear'>.\n",
      "[INFO] Register zero_ops() for <class 'torch.nn.modules.activation.ReLU'>.\n",
      "[INFO] Register zero_ops() for <class 'torch.nn.modules.dropout.Dropout'>.\n",
      "Epoch 46/200\n",
      "Train Accuracy: 0.5852\n",
      "Val Accuracy: 0.7571 | Val F1 Score: 0.7529\n",
      "F1NOP: 0.9656\n",
      "Current NOP: 8.0\n"
     ]
    },
    {
     "name": "stderr",
     "output_type": "stream",
     "text": [
      "\rEpoch 47/200:   0%|          | 0/788 [00:00<?, ?it/s]<ipython-input-16-286c7866ba4e>:13: UserWarning: To copy construct from a tensor, it is recommended to use sourceTensor.clone().detach() or sourceTensor.clone().detach().requires_grad_(True), rather than torch.tensor(sourceTensor).\n",
      "  torch.tensor(self.labels[idx]).clone().detach())\n",
      "Epoch 47/200: 100%|██████████| 788/788 [00:01<00:00, 767.31it/s]\n"
     ]
    },
    {
     "name": "stdout",
     "output_type": "stream",
     "text": [
      "[INFO] Register count_linear() for <class 'torch.nn.modules.linear.Linear'>.\n",
      "[INFO] Register zero_ops() for <class 'torch.nn.modules.activation.ReLU'>.\n",
      "[INFO] Register zero_ops() for <class 'torch.nn.modules.dropout.Dropout'>.\n",
      "Epoch 47/200\n",
      "Train Accuracy: 0.5829\n",
      "Val Accuracy: 0.7571 | Val F1 Score: 0.7529\n",
      "F1NOP: 0.9656\n",
      "Current NOP: 8.0\n"
     ]
    },
    {
     "name": "stderr",
     "output_type": "stream",
     "text": [
      "Epoch 48/200:   0%|          | 0/788 [00:00<?, ?it/s]<ipython-input-16-286c7866ba4e>:13: UserWarning: To copy construct from a tensor, it is recommended to use sourceTensor.clone().detach() or sourceTensor.clone().detach().requires_grad_(True), rather than torch.tensor(sourceTensor).\n",
      "  torch.tensor(self.labels[idx]).clone().detach())\n",
      "Epoch 48/200: 100%|██████████| 788/788 [00:00<00:00, 851.87it/s]\n"
     ]
    },
    {
     "name": "stdout",
     "output_type": "stream",
     "text": [
      "[INFO] Register count_linear() for <class 'torch.nn.modules.linear.Linear'>.\n",
      "[INFO] Register zero_ops() for <class 'torch.nn.modules.activation.ReLU'>.\n",
      "[INFO] Register zero_ops() for <class 'torch.nn.modules.dropout.Dropout'>.\n",
      "Epoch 48/200\n",
      "Train Accuracy: 0.5892\n",
      "Val Accuracy: 0.7571 | Val F1 Score: 0.7529\n",
      "F1NOP: 0.9656\n",
      "Current NOP: 8.0\n"
     ]
    },
    {
     "name": "stderr",
     "output_type": "stream",
     "text": [
      "\rEpoch 49/200:   0%|          | 0/788 [00:00<?, ?it/s]<ipython-input-16-286c7866ba4e>:13: UserWarning: To copy construct from a tensor, it is recommended to use sourceTensor.clone().detach() or sourceTensor.clone().detach().requires_grad_(True), rather than torch.tensor(sourceTensor).\n",
      "  torch.tensor(self.labels[idx]).clone().detach())\n",
      "Epoch 49/200: 100%|██████████| 788/788 [00:00<00:00, 832.39it/s]"
     ]
    },
    {
     "name": "stdout",
     "output_type": "stream",
     "text": [
      "Early stopping triggered.\n"
     ]
    },
    {
     "name": "stderr",
     "output_type": "stream",
     "text": [
      "\n"
     ]
    }
   ],
   "source": [
    "# This cell implements model training with early stopping and F1NOP calculation for performance measurement.\n",
    "\n",
    "num_epochs = 200\n",
    "early_stop_tolerance = 20\n",
    "best_val_f1 = 0\n",
    "no_improvement_count = 0\n",
    "epsilon = 5e-16\n",
    "\n",
    "for epoch in range(num_epochs):\n",
    "    model.train()\n",
    "    total_loss, correct, total = 0, 0, 0\n",
    "\n",
    "    for batch in tqdm(train_loader, desc=f\"Epoch {epoch + 1}/{num_epochs}\"):\n",
    "        optimizer.zero_grad()\n",
    "        inputs, labels = batch\n",
    "        inputs, labels = inputs.to(device), labels.to(device)\n",
    "\n",
    "        outputs = model(inputs)\n",
    "        loss = loss_fn(outputs, labels)\n",
    "        loss.backward()\n",
    "        optimizer.step()\n",
    "\n",
    "        total_loss += loss.item()\n",
    "        preds = outputs.argmax(dim=-1)\n",
    "        correct += (preds == labels).sum().item()\n",
    "        total += labels.size(0)\n",
    "\n",
    "    # Validation phase\n",
    "    model.eval()\n",
    "    val_loss, val_correct, val_total = 0, 0, 0\n",
    "    val_f1_preds, val_f1_labels = [], []\n",
    "\n",
    "    with torch.no_grad():\n",
    "        for batch in val_loader:\n",
    "            inputs, labels = batch\n",
    "            inputs, labels = inputs.to(device), labels.to(device)\n",
    "\n",
    "            outputs = model(inputs)\n",
    "            val_loss += loss_fn(outputs, labels).item()\n",
    "\n",
    "            preds = outputs.argmax(dim=-1)\n",
    "            val_correct += (preds == labels).sum().item()\n",
    "            val_total += labels.size(0)\n",
    "\n",
    "            val_f1_preds.extend(preds.cpu().numpy())\n",
    "            val_f1_labels.extend(labels.cpu().numpy())\n",
    "\n",
    "    # Metrics\n",
    "    train_accuracy = correct / total\n",
    "    val_accuracy = val_correct / val_total\n",
    "    val_f1 = f1_score(val_f1_labels, val_f1_preds, average='weighted')\n",
    "\n",
    "    # Update learning rate\n",
    "    scheduler.step()\n",
    "\n",
    "    # Early stopping check\n",
    "    if val_f1 > best_val_f1:\n",
    "        best_val_f1 = val_f1\n",
    "        no_improvement_count = 0\n",
    "        torch.save(model.state_dict(), \"best_model.pth\")\n",
    "    else:\n",
    "        no_improvement_count += 1\n",
    "        if no_improvement_count >= early_stop_tolerance:\n",
    "            print(\"Early stopping triggered.\")\n",
    "            break\n",
    "\n",
    "    # F1NOP calculation\n",
    "    _, NOP = measure_nop_thop(model, val_inputs)\n",
    "    f1_nop = (0.4 * val_f1) + (0.6 * (1 / (torch.log10(torch.tensor(max(1, NOP))) + epsilon)))\n",
    "\n",
    "    print(f\"Epoch {epoch + 1}/{num_epochs}\")\n",
    "    print(f\"Train Accuracy: {train_accuracy:.4f}\")\n",
    "    print(f\"Val Accuracy: {val_accuracy:.4f} | Val F1 Score: {val_f1:.4f}\")\n",
    "    print(f\"F1NOP: {f1_nop:.4f}\")\n",
    "    print(f\"Current NOP: {NOP}\")"
   ]
  },
  {
   "cell_type": "markdown",
   "metadata": {
    "id": "_EM7LdFG0xbe"
   },
   "source": [
    "Final NOP Calculation and Vectorizer Saving"
   ]
  },
  {
   "cell_type": "code",
   "execution_count": 23,
   "metadata": {
    "colab": {
     "base_uri": "https://localhost:8080/"
    },
    "id": "DYTL7bStjUuV",
    "outputId": "aadac3b9-2036-4f13-8a81-667a1d38285c"
   },
   "outputs": [
    {
     "name": "stdout",
     "output_type": "stream",
     "text": [
      "[INFO] Register count_linear() for <class 'torch.nn.modules.linear.Linear'>.\n",
      "[INFO] Register zero_ops() for <class 'torch.nn.modules.activation.ReLU'>.\n",
      "[INFO] Register zero_ops() for <class 'torch.nn.modules.dropout.Dropout'>.\n",
      "Final Number of Parameters: 8.0\n"
     ]
    }
   ],
   "source": [
    "# Recalculates NOP for the final model and saves the vectorizer for future use.\n",
    "\n",
    "_, NOP = measure_nop_thop(model, val_inputs)\n",
    "print(f\"Final Number of Parameters: {NOP}\")\n",
    "\n",
    "with open(\"vectorizer_v4_tfidf.pkl\", \"wb\") as f:\n",
    "    pickle.dump(vectorizer, f)"
   ]
  },
  {
   "cell_type": "markdown",
   "metadata": {
    "id": "42tQ1knf6myc"
   },
   "source": [
    "# Testing the model"
   ]
  },
  {
   "cell_type": "markdown",
   "metadata": {
    "id": "Lt7Sx8TI-OX2"
   },
   "source": [
    "Preparing Test Dataset"
   ]
  },
  {
   "cell_type": "code",
   "execution_count": 24,
   "metadata": {
    "id": "oLQcOH6r6rXM"
   },
   "outputs": [],
   "source": [
    "# Load the test dataset\n",
    "test_df = pd.read_csv(\"test.csv\")\n",
    "\n",
    "# Load the vectorizer\n",
    "with open(\"vectorizer_v4_tfidf.pkl\", \"rb\") as f:\n",
    "    vectorizer = pickle.load(f)\n",
    "\n",
    "# Preprocess the test data\n",
    "test_df['passage'] = test_df['passage'].str.lower()\n",
    "X_test = vectorizer.transform(test_df['passage']).toarray()"
   ]
  },
  {
   "cell_type": "code",
   "execution_count": 25,
   "metadata": {
    "id": "1Ybvy1c568Ll"
   },
   "outputs": [],
   "source": [
    "# Apply PCA\n",
    "pca = PCA(n_components=2)  # Ensure this matches the PCA components used in training\n",
    "X_test_pca = pca.fit_transform(X_test)\n",
    "\n",
    "# Convert test features to tensor\n",
    "X_test_tensor = torch.tensor(X_test_pca, dtype=torch.float32)"
   ]
  },
  {
   "cell_type": "code",
   "execution_count": 31,
   "metadata": {
    "id": "ZaQgJ-iT7mC-"
   },
   "outputs": [],
   "source": [
    "from torch.utils.data import DataLoader, TensorDataset\n",
    "\n",
    "# Create a DataLoader for the test set\n",
    "test_loader = DataLoader(TensorDataset(X_test_tensor), batch_size=8, shuffle=False)"
   ]
  },
  {
   "cell_type": "code",
   "execution_count": 32,
   "metadata": {
    "colab": {
     "base_uri": "https://localhost:8080/"
    },
    "id": "yTXLyH977Cth",
    "outputId": "daf4c7c6-efbd-46d9-efab-53d356385ef1"
   },
   "outputs": [
    {
     "name": "stdout",
     "output_type": "stream",
     "text": [
      "[INFO] Register count_linear() for <class 'torch.nn.modules.linear.Linear'>.\n",
      "[INFO] Register zero_ops() for <class 'torch.nn.modules.activation.ReLU'>.\n",
      "[INFO] Register zero_ops() for <class 'torch.nn.modules.dropout.Dropout'>.\n",
      "Final Number of Parameters for Test Prediction: 8.0\n"
     ]
    }
   ],
   "source": [
    "# Calculate NOP using a sample input from test set\n",
    "sample_input = X_test_tensor[0].unsqueeze(0).to(device)\n",
    "_, NOP = profile(model, inputs=(sample_input,))\n",
    "print(f\"Final Number of Parameters for Test Prediction: {NOP}\")"
   ]
  },
  {
   "cell_type": "code",
   "execution_count": 34,
   "metadata": {
    "colab": {
     "base_uri": "https://localhost:8080/"
    },
    "id": "fM5SjAmu7PWO",
    "outputId": "bd032d09-beb3-45ed-8084-3bbb2eab3b5f"
   },
   "outputs": [
    {
     "name": "stdout",
     "output_type": "stream",
     "text": [
      "Predictions saved to predictions.csv.\n"
     ]
    }
   ],
   "source": [
    "# Make predictions\n",
    "model.eval()\n",
    "y_pred = []\n",
    "\n",
    "with torch.no_grad():\n",
    "    for batch in test_loader:\n",
    "        inputs = batch[0].to(device)\n",
    "        outputs = model(inputs)\n",
    "        preds = outputs.argmax(dim=-1)\n",
    "        y_pred.extend(preds.cpu().numpy())\n",
    "\n",
    "# Save predictions with NOP in a new DataFrame\n",
    "output_df = pd.DataFrame({\n",
    "    'id': test_df['id'],\n",
    "    'y_pred': y_pred,\n",
    "    'parameters': [NOP] * len(y_pred)\n",
    "})\n",
    "\n",
    "# Save to CSV\n",
    "output_df.to_csv(\"predictions.csv\", index=False)\n",
    "print(\"Predictions saved to predictions.csv.\")"
   ]
  },
  {
   "cell_type": "markdown",
   "metadata": {
    "id": "jqxPbtgw-5o0"
   },
   "source": [
    "# Note"
   ]
  },
  {
   "cell_type": "markdown",
   "metadata": {
    "id": "QJjFmMnGAHdb"
   },
   "source": [
    ">The training accuracy is low due to the dropout layer\n",
    "\n",
    ">The file I submitted has only 8 parameters. The parameters could have been lowered if the pca = PCA(n_components=1).\n",
    "\n",
    ">If we set the number of components to 1, the f1nop will be higher. However, the f1 score will be too low, resulting a bad model.\n",
    "\n",
    ">On the other hand, if we increase the number of components in the pca, the number of parameters will increase and the f1 score will also increase. But that will result a slightly lower f1nop.\n",
    "\n",
    ">Since it is a competition and evaluated based on the f1nop score, that's why I submitted the submission file with n_components with 2. Which balances between number of parameters and a acceptable"
   ]
  }
 ],
 "metadata": {
  "colab": {
   "collapsed_sections": [
    "2-ucUXS11VHN",
    "jt3DG8E21J0S",
    "42tQ1knf6myc"
   ],
   "provenance": []
  },
  "kernelspec": {
   "display_name": "Python 3",
   "name": "python3"
  },
  "language_info": {
   "name": "python"
  }
 },
 "nbformat": 4,
 "nbformat_minor": 0
}
